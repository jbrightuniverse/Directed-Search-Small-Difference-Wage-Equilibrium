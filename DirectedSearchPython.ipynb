{
 "cells": [
  {
   "cell_type": "markdown",
   "metadata": {},
   "source": [
    "# Directed Search: Small-Difference Equilibrium with Y1 > Y2\n",
    "\n",
    "## A partial solution to UBC Econ 514 Pset 2 Q3\n",
    "\n",
    "James Yu, 12 February 2021\n",
    "\n",
    "This notebook revises a procedure from [this notebook](https://github.com/jbrightuniverse/Directed-Search-Small-Difference-Wage-Equilibrium/blob/main/DirectedSearch.ipynb). For the most part, this notebook is functionally identical to the previous one.\n",
    "\n",
    "It also formulates a solution for problem 3 of [this assignment](https://montoya.econ.ubc.ca/Econ514/problem_set_2.pdf).\n",
    "\n",
    "[This other notebook](https://github.com/michaelpetersubc/notebooks/blob/master/Econ306/directed_search/directed_search_incomplete_information.ipynb) by Dr. Michael Peters, which we shall refer to hereafter as \"the original notebook\", describes the full extent of the solution for the Nash equilibrium $\\pi_h$ and $\\pi_l$ which is re-implemented here.\n",
    "\n",
    "Unlike the previous iteration of this solution, this notebook implements grid search in Python instead of C++. In order to ensure that the grid search completes in a timely manner, values for $\\lambda$, $y_1$ and $y_2$ are pre-fixed.\n",
    "\n",
    "# Procedure\n",
    "\n",
    "In this notebook, we will be demonstrating a corollary of the Directed Search model with incomplete information for firms' choices of wages. This is outlined in the assignment problem which should be read before continuing.\n",
    "\n",
    "To do this, we will take a grid of values for $w_1$ and $w_2$, evaluate profit functions over the grid, and numerically construct a best-response set for each firm. The best-response values of $w_1$ and $w_2$ will, if the procedure works, show that the arguments from the assignment problem are satisfied.\n",
    "\n",
    "First, we define our $\\pi_h$ and $\\pi_l$, which are piecewise based on inputs $w_1$, $w_2$ and $\\lambda$. Here we use gamma instead of $\\lambda$ to avoid issues with lambda being a reserved method name."
   ]
  },
  {
   "cell_type": "code",
   "execution_count": 1,
   "metadata": {},
   "outputs": [],
   "source": [
    "def pi_h(w1, w2, gamma):\n",
    "    if (gamma*w1/2 + (1-gamma)*w1 >= w2):\n",
    "        return 1\n",
    "    elif (w1 > w2 and gamma*w1/2 + (1-gamma)*w1 <= w2):\n",
    "        return ((gamma-2)*w2 + 2*w1)/(gamma*(w1+w2))\n",
    "    elif (w2 > w1 and gamma*w2/2 + (1-gamma)*w2 <= w1):\n",
    "        return  1 - ((gamma-2)*w1 + 2*w2)/(gamma*(w2+w1))\n",
    "    return 0"
   ]
  },
  {
   "cell_type": "markdown",
   "metadata": {},
   "source": [
    "This above function is mostly a line by line transposition of the piecewise $\\pi_h$ from the original notebook. The only change is that in the third case, we subtract the value from one as when we swap $w_1$ and $w_2$, this actually gives us the probability of applying to the second firm instead of the first."
   ]
  },
  {
   "cell_type": "code",
   "execution_count": 2,
   "metadata": {},
   "outputs": [],
   "source": [
    "def inner_pi_l(w1, w2, gamma):\n",
    "    if (gamma*w1/2 + (1-gamma)*w1 >= w2):\n",
    "        return ((1-gamma)*(2*w1 - w2)) / ((w1+w2)-gamma*(w1-w2))\n",
    "    elif (w1 > w2 and gamma*w1/2 + (1-gamma)*w1 <= w2):\n",
    "        return ((3-gamma)*w2 - 2*w1)/((1-gamma)*(w1+w2))\n",
    "    elif (w2 > w1 and gamma*w2/2 + (1-gamma)*w2 <= w1):\n",
    "        return 1 - ((3-gamma)*w1 - 2*w2)/((1-gamma)*(w2+w1))\n",
    "    return ((1-gamma)*(2*w2 - w1)) / ((w2+w1)-gamma*(w2-w1))"
   ]
  },
  {
   "cell_type": "markdown",
   "metadata": {},
   "source": [
    "This function is also mostly line by line of $\\pi_l$, with the only difference being the `1 -` term in the third case. However, this $\\pi_l$ is insufficient for capturing the whole range of cases for $w_1$ and $w_2$, as we have cases where one of the two firms becomes dominated that these four cases do not capture. Instead of having to come up with the exact boundary conditions, we can simply constrain $\\pi_l$ to be between zero and one, as these dominated cases result in $\\pi_l$ taking on unrealistic values outside of $[0, 1]$. We could do the same thing for $\\pi_h$ instead of having a full four cases, but for parity with the original notebook, we don't."
   ]
  },
  {
   "cell_type": "code",
   "execution_count": 3,
   "metadata": {},
   "outputs": [],
   "source": [
    "def pi_l(w1, w2, gamma):\n",
    "    pi = inner_pi_l(w1, w2, gamma)\n",
    "    if (pi > 1): \n",
    "        return 1\n",
    "    elif (pi < 0): \n",
    "        return 0\n",
    "    return pi"
   ]
  },
  {
   "cell_type": "markdown",
   "metadata": {},
   "source": [
    "Now that we've defined functions for $\\pi_h$ and $\\pi_l$, we can define profit functions for the firms. These are direct implementations of the theoretical function example given at the end of the original notebook. The function for firm 1 was given, and the function for firm 2 is very similar; we simply invert the probabilities and apply the wage and revenue variables for firm 2 instead of firm 1."
   ]
  },
  {
   "cell_type": "code",
   "execution_count": 4,
   "metadata": {},
   "outputs": [],
   "source": [
    "def profit_1(w1, w2, gamma, y1, pi_hval, pi_lval):\n",
    "    result = gamma**2 * (1-pi_hval**2)\n",
    "    result += (1-gamma)**2 * (1-pi_lval**2)\n",
    "    result += 2*gamma*(1-gamma)*(1-pi_hval)*(1-pi_lval)\n",
    "    return (y1-w1)*(1-result)\n",
    "\n",
    "def profit_2(w1, w2, gamma, y2, pi_hval, pi_lval):\n",
    "    result = gamma**2 * pi_hval**2\n",
    "    result += (1-gamma)**2 * pi_lval**2\n",
    "    result += 2*gamma*(1-gamma)*pi_hval*pi_lval\n",
    "    return (y2-w2)*(1-result)"
   ]
  },
  {
   "cell_type": "markdown",
   "metadata": {},
   "source": [
    "Now, we want to find the equilibrium wage pairs that maximize firms' profits. This is where we conduct our grid search. We will define a function for a static $\\lambda$, $y_1$ and $y_2$ selection, iterating over pairs of $w_1$ and $w_2$ to start with. We will evaluate both profit functions over the grid and construct a NumPy array to store them."
   ]
  },
  {
   "cell_type": "code",
   "execution_count": 5,
   "metadata": {},
   "outputs": [],
   "source": [
    "import numpy as np\n",
    "global_precision = 100"
   ]
  },
  {
   "cell_type": "code",
   "execution_count": 6,
   "metadata": {},
   "outputs": [],
   "source": [
    "def grid_exhaust(gamma, y1, y2, precision = global_precision):\n",
    "    profit1 = np.zeros((precision, precision))\n",
    "    profit2 = np.zeros((precision, precision))\n",
    "    \n",
    "    data = np.linspace(0.0000001, 1, precision)\n",
    "    for i in range(precision):\n",
    "        for j in range(precision):\n",
    "            w1 = data[i]\n",
    "            w2 = data[j]\n",
    "            pi_hval = pi_h(w1, w2, gamma)\n",
    "            pi_lval = pi_l(w1, w2, gamma)\n",
    "            profit1[i,j] = profit_1(w1, w2, gamma, y1, pi_hval, pi_lval)\n",
    "            profit2[i,j] = profit_2(w1, w2, gamma, y2, pi_hval, pi_lval)\n",
    "            \n",
    "    return profit1, profit2"
   ]
  },
  {
   "cell_type": "markdown",
   "metadata": {},
   "source": [
    "We can now construct an exhausted grid with a precision variable specifying how big of a grid we want."
   ]
  },
  {
   "cell_type": "code",
   "execution_count": 7,
   "metadata": {},
   "outputs": [],
   "source": [
    "my_gamma = 0.95\n",
    "my_y1 = 1\n",
    "my_y2 = 0.8\n",
    "\n",
    "exhausted_grid = grid_exhaust(my_gamma, my_y1, my_y2)"
   ]
  },
  {
   "cell_type": "markdown",
   "metadata": {},
   "source": [
    "This pair of arrays gives a grid of evaluated profit values for the two firms given $w_1$, $w_2$ pairs. Given these pairs, we can iterate over the two arrays to find the best response wage pairs which maximize profits for a particular firm given the wage choice of the other firm."
   ]
  },
  {
   "cell_type": "code",
   "execution_count": 8,
   "metadata": {},
   "outputs": [],
   "source": [
    "def best_response(grid, precision = global_precision):\n",
    "    profit1, profit2 = grid\n",
    "    bestresponse1 = np.zeros(precision, dtype = np.uint64)\n",
    "    bestresponse2 = np.zeros(precision, dtype = np.uint64)\n",
    "    \n",
    "    for other_w in range(precision):\n",
    "        argmax_1 = 0\n",
    "        argmax_2 = 0\n",
    "        valmax_1 = 0\n",
    "        valmax_2 = 0\n",
    "        # profit function matrices are stored as w1, w2 for both firms\n",
    "        for w in range(precision):\n",
    "            entry = profit1[w,other_w]\n",
    "            if (entry > valmax_1):\n",
    "                valmax_1 = entry\n",
    "                argmax_1 = w # choice of w1, being used as first index\n",
    "\n",
    "            entry = profit2[other_w,w];\n",
    "            if (entry > valmax_2):\n",
    "                valmax_2 = entry\n",
    "                argmax_2 = w # choice of w2, being used as second index\n",
    "              \n",
    "        bestresponse1[other_w] = argmax_1\n",
    "        bestresponse2[other_w] = argmax_2\n",
    "            \n",
    "    return bestresponse1, bestresponse2"
   ]
  },
  {
   "cell_type": "markdown",
   "metadata": {},
   "source": [
    "The above function takes the output of `grid_exhaust` and finds the argument $w_1$ and $w_2$ values which maximize profits given the opposing firm has chosen some wage value. The output is a single-dimensional numpy vector."
   ]
  },
  {
   "cell_type": "code",
   "execution_count": 9,
   "metadata": {},
   "outputs": [],
   "source": [
    "best_responses = best_response(exhausted_grid)"
   ]
  },
  {
   "cell_type": "markdown",
   "metadata": {},
   "source": [
    "We have one best response for each of the `precision` number of entries in a single dimension of our original grid. Now that we have this data, we find equilibria by looking for matching pairs. That is, given a value $w_1$ that firm 1 chooses as a best response for some $w_2$ chosen by firm 2, if the best response of firm 2 to firm 1 choosing $w_1$ is to choose that same $w_2$, we have an equilibrium as it means there exists this outcome where both have maximized their profits by choosing a common pair of wages to set.\n",
    "\n",
    "This is a direct implementation of best-response analysis in a discrete matrix game. When conducting the checks to find the strategy choice for which a player cannot deviate to achieve higher payoff, if there is some matrix entry containing an optimal strategy for both players, this is that same type of equilibrium."
   ]
  },
  {
   "cell_type": "code",
   "execution_count": 10,
   "metadata": {},
   "outputs": [],
   "source": [
    "def equilibria(responses):\n",
    "    bestresponse1, bestresponse2 = responses\n",
    "    res = []\n",
    "    for i in range(len(bestresponse1)):\n",
    "        arg = bestresponse1[i]\n",
    "        if bestresponse2[arg] == i:\n",
    "            res.append([arg, i])\n",
    "    \n",
    "    return res"
   ]
  },
  {
   "cell_type": "markdown",
   "metadata": {},
   "source": [
    "In the above function, we iterate over firm 1's best response choices of $w_1$, `arg`, to the corresponding $w_2$ specified by that index `i` of the vector. If firm 2's best response to firm 1's `arg` is to play `i` as $w_2$, we have an equilibrium."
   ]
  },
  {
   "cell_type": "code",
   "execution_count": 11,
   "metadata": {},
   "outputs": [],
   "source": [
    "equilibriums = equilibria(best_responses)"
   ]
  },
  {
   "cell_type": "code",
   "execution_count": 12,
   "metadata": {},
   "outputs": [],
   "source": [
    "def report(gamma, equilibs, precision = global_precision, suppress = False):\n",
    "    res = []\n",
    "    ws = np.linspace(0.0000001, 1, precision)\n",
    "    for data in equilibs:\n",
    "        res.append([ws[data[0]], ws[data[1]]])\n",
    "\n",
    "    if not suppress:\n",
    "        print(\"Original data has\", len(res), \"entries\")\n",
    "        print(res)\n",
    "    res = list(filter(lambda x: x[0] > x[1], res))\n",
    "    if not suppress:\n",
    "        print(\"w1 > w2 has\", len(res), \"entries\")\n",
    "    res = list(filter(lambda x: gamma*x[0]/2+(1-gamma)*x[0] <= x[1], res))\n",
    "    if not suppress:\n",
    "        print(\"Final result satisfied with\", len(res), \"entries\")\n",
    "    return res"
   ]
  },
  {
   "cell_type": "code",
   "execution_count": 13,
   "metadata": {
    "scrolled": true
   },
   "outputs": [
    {
     "name": "stdout",
     "output_type": "stream",
     "text": [
      "Original data has 1 entries\n",
      "[[0.6767677090909091, 0.5151515636363636]]\n",
      "w1 > w2 has 1 entries\n",
      "Final result satisfied with 1 entries\n"
     ]
    },
    {
     "data": {
      "text/plain": [
       "[[0.6767677090909091, 0.5151515636363636]]"
      ]
     },
     "execution_count": 13,
     "metadata": {},
     "output_type": "execute_result"
    }
   ],
   "source": [
    "report(my_gamma, equilibriums)"
   ]
  },
  {
   "cell_type": "markdown",
   "metadata": {},
   "source": [
    "This means that for our original choices at the beginning of the notebook of $\\lambda$, $y_1$ and $y_2$, we get these pairs of $w_1$ and $w_2$ as our wage equilibria. According to the filters, they satisfy all conditions.\n",
    "\n",
    "We can now encapsulate everything we did into one single function so we can manipulate it."
   ]
  },
  {
   "cell_type": "code",
   "execution_count": 14,
   "metadata": {},
   "outputs": [],
   "source": [
    "def do_everything(gamma, y1, y2, suppress = False):\n",
    "    exhausted_grid = grid_exhaust(gamma, y1, y2)\n",
    "    best_responses = best_response(exhausted_grid)\n",
    "    equilibriums = equilibria(best_responses)\n",
    "    return report(gamma, equilibriums, suppress = suppress)"
   ]
  },
  {
   "cell_type": "code",
   "execution_count": 15,
   "metadata": {},
   "outputs": [
    {
     "name": "stdout",
     "output_type": "stream",
     "text": [
      "Original data has 1 entries\n",
      "[[0.6363636727272728, 0.43434349090909097]]\n",
      "w1 > w2 has 1 entries\n",
      "Final result satisfied with 1 entries\n"
     ]
    },
    {
     "data": {
      "text/plain": [
       "[[0.6363636727272728, 0.43434349090909097]]"
      ]
     },
     "execution_count": 15,
     "metadata": {},
     "output_type": "execute_result"
    }
   ],
   "source": [
    "do_everything(0.91, 1, 0.6)"
   ]
  },
  {
   "cell_type": "markdown",
   "metadata": {},
   "source": [
    "Let's do some graphing. We need to figure out where this is actually defined, so lets plot the results as a bar graph with $\\lambda$ on the x-axis and number of equilibria on the y-axis. We'll set some arbitrary values of $y_1$ and $y_2$ on the time axis and form a dynamic graph."
   ]
  },
  {
   "cell_type": "code",
   "execution_count": 16,
   "metadata": {
    "scrolled": true
   },
   "outputs": [
    {
     "data": {
      "text/html": [
       "<img src='data:image/gif;base64,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'/>"
      ],
      "text/plain": [
       "<IPython.core.display.HTML object>"
      ]
     },
     "execution_count": 16,
     "metadata": {},
     "output_type": "execute_result"
    },
    {
     "data": {
      "text/plain": [
       "<Figure size 432x288 with 0 Axes>"
      ]
     },
     "metadata": {},
     "output_type": "display_data"
    }
   ],
   "source": [
    "import matplotlib.pyplot as plt\n",
    "from io import BytesIO\n",
    "from PIL import Image\n",
    "\n",
    "images = []\n",
    "for y2 in [0.8, 0.7, 0.6]:\n",
    "    for y1 in [1]:\n",
    "        if y1 == y2: continue\n",
    "        data = []\n",
    "        gammas = np.linspace(0.5, 0.9999, 10)\n",
    "        for gamma in gammas:\n",
    "            data.append(len(do_everything(gamma, y1, y2, suppress = True)))\n",
    "        \n",
    "        plt.clf()\n",
    "        fig, ax = plt.subplots()\n",
    "        plt.plot(gammas, data)\n",
    "\n",
    "        fig.suptitle(f\"Number of equilibria for Y1 = {round(y1, 2)}, Y2 = {round(y2, 2)}\")\n",
    "        plt.xlabel(\"λ\")\n",
    "        plt.ylabel(\"# of points\")\n",
    "        filex = BytesIO()\n",
    "        ax.set_ylim(0, 2)\n",
    "        fig.savefig(filex, format = \"png\")\n",
    "        plt.close()\n",
    "        filex.seek(0)\n",
    "        images.append(filex)\n",
    "\n",
    "imgs = [Image.open(image) for image in images]\n",
    "masterfilex = BytesIO()\n",
    "imgs[0].save(fp=masterfilex, format='GIF', append_images=imgs[1:], save_all=True, duration=400, loop=0)\n",
    "\n",
    "# this is a GIF-displaying hack from https://stackoverflow.com/a/32108899\n",
    "from IPython.display import HTML\n",
    "from base64 import b64encode\n",
    "HTML(\"<img src='data:image/gif;base64,{0}'/>\".format(b64encode(masterfilex.getvalue()).decode('utf-8')))"
   ]
  },
  {
   "cell_type": "markdown",
   "metadata": {},
   "source": [
    "To be continued..."
   ]
  }
 ],
 "metadata": {
  "kernelspec": {
   "display_name": "Python 3",
   "language": "python",
   "name": "python3"
  },
  "language_info": {
   "codemirror_mode": {
    "name": "ipython",
    "version": 3
   },
   "file_extension": ".py",
   "mimetype": "text/x-python",
   "name": "python",
   "nbconvert_exporter": "python",
   "pygments_lexer": "ipython3",
   "version": "3.8.6"
  }
 },
 "nbformat": 4,
 "nbformat_minor": 4
}
