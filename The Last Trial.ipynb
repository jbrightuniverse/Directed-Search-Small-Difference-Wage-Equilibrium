{
 "cells": [
  {
   "cell_type": "code",
   "execution_count": 1,
   "metadata": {},
   "outputs": [],
   "source": [
    "import matplotlib.pyplot as plt\n",
    "import numpy as np\n",
    "from sympy import *"
   ]
  },
  {
   "cell_type": "markdown",
   "metadata": {},
   "source": [
    "Use the Pi function assumptions from Discord."
   ]
  },
  {
   "cell_type": "code",
   "execution_count": 26,
   "metadata": {},
   "outputs": [
    {
     "data": {
      "text/latex": [
       "$\\displaystyle - \\frac{Y_{1} + 2 w_{1}}{4 w_{1}}$"
      ],
      "text/plain": [
       "-(Y1 + 2*w_1)/(4*w_1)"
      ]
     },
     "execution_count": 26,
     "metadata": {},
     "output_type": "execute_result"
    }
   ],
   "source": [
    "w_1, w_2, gamma, Y1, Y2 = symbols(\"w_1 w_2 gamma Y1 Y2\")\n",
    "\n",
    "pi_H = ((gamma-2)*w_2 + 2*w_1)/(gamma*(w_1+w_2))\n",
    "pi_L = ((3-gamma)*w_2 - 2*w_1)/((1-gamma)*(w_1+w_2))\n",
    "profit_1 = (Y1 - w_1)*(1-((gamma**2 *(1-pi_H)**2) + ((1-gamma)**2 *(1-pi_L)**2) + (2*gamma*(1-gamma)*(1-pi_H)*(1-pi_L))))\n",
    "dprofit_1 = diff(profit_1, w_1)\n",
    "simplify(dprofit_1.subs(w_2, w_1))"
   ]
  },
  {
   "cell_type": "code",
   "execution_count": 27,
   "metadata": {
    "scrolled": true
   },
   "outputs": [
    {
     "data": {
      "text/latex": [
       "$\\displaystyle - \\frac{Y_{2} \\gamma^{2}}{2 w_{1}} + \\frac{2 Y_{2} \\gamma}{w_{1}} + \\frac{Y_{2}}{4 w_{1}} + \\gamma^{2} - 2 \\gamma - \\frac{3}{2}$"
      ],
      "text/plain": [
       "-Y2*gamma**2/(2*w_1) + 2*Y2*gamma/w_1 + Y2/(4*w_1) + gamma**2 - 2*gamma - 3/2"
      ]
     },
     "execution_count": 27,
     "metadata": {},
     "output_type": "execute_result"
    }
   ],
   "source": [
    "profit_2 = (Y2 - w_2)*(1-(gamma**2 * pi_H**2) + ((1-gamma)**2 * pi_L**2) + (2*gamma*(1-gamma)*pi_H*pi_L))\n",
    "dprofit_2 = diff(profit_2, w_2)\n",
    "#dprofit_2 = simplify(dprofit_2.subs(w_2, w_1))\n",
    "simplify(dprofit_2.subs(w_2, w_1))"
   ]
  },
  {
   "cell_type": "code",
   "execution_count": 15,
   "metadata": {
    "scrolled": true
   },
   "outputs": [
    {
     "data": {
      "text/latex": [
       "$\\displaystyle \\frac{- 0.0078125 Y_{1} \\gamma + 0.015625 Y_{1} - 0.0009765625 \\gamma^{3} w_{1} + 0.01171875 \\gamma^{2} w_{1} - 0.03515625 \\gamma w_{1} + 0.03125 w_{1}}{w_{1} \\left(0.0009765625 \\gamma^{3} - 0.01171875 \\gamma^{2} + 0.046875 \\gamma - 0.0625\\right)}$"
      ],
      "text/plain": [
       "(-0.0078125*Y1*gamma + 0.015625*Y1 - 0.0009765625*gamma**3*w_1 + 0.01171875*gamma**2*w_1 - 0.03515625*gamma*w_1 + 0.03125*w_1)/(w_1*(0.0009765625*gamma**3 - 0.01171875*gamma**2 + 0.046875*gamma - 0.0625))"
      ]
     },
     "execution_count": 15,
     "metadata": {},
     "output_type": "execute_result"
    }
   ],
   "source": [
    "simplify(dprofit_1.subs(w_2, w_1 * (1-0.5*gamma)))"
   ]
  },
  {
   "cell_type": "code",
   "execution_count": 16,
   "metadata": {
    "scrolled": true
   },
   "outputs": [
    {
     "data": {
      "text/latex": [
       "$\\displaystyle \\frac{- 1.0 Y_{2} \\gamma^{3} + 8.0 Y_{2} \\gamma^{2} - 15.5 Y_{2} \\gamma - 1.0 Y_{2} + 0.125 \\gamma^{5} w_{1} - 2.0 \\gamma^{4} w_{1} + 10.875 \\gamma^{3} w_{1} - 22.5 \\gamma^{2} w_{1} + 10.75 \\gamma w_{1} + 6.0 w_{1}}{w_{1} \\left(0.0625 \\gamma^{3} - 0.75 \\gamma^{2} + 3.0 \\gamma - 4.0\\right)}$"
      ],
      "text/plain": [
       "(-1.0*Y2*gamma**3 + 8.0*Y2*gamma**2 - 15.5*Y2*gamma - 1.0*Y2 + 0.125*gamma**5*w_1 - 2.0*gamma**4*w_1 + 10.875*gamma**3*w_1 - 22.5*gamma**2*w_1 + 10.75*gamma*w_1 + 6.0*w_1)/(w_1*(0.0625*gamma**3 - 0.75*gamma**2 + 3.0*gamma - 4.0))"
      ]
     },
     "execution_count": 16,
     "metadata": {},
     "output_type": "execute_result"
    }
   ],
   "source": [
    "simplify(dprofit_2.subs(w_2, w_1 * (1-0.5*gamma)))"
   ]
  },
  {
   "cell_type": "code",
   "execution_count": 24,
   "metadata": {},
   "outputs": [
    {
     "data": {
      "text/latex": [
       "$\\displaystyle - \\frac{602.352941176471 \\left(- 0.00109375 Y_{1} + 0.00248828125 w_{1}\\right)}{w_{1}}$"
      ],
      "text/plain": [
       "-602.352941176471*(-0.00109375*Y1 + 0.00248828125*w_1)/w_1"
      ]
     },
     "execution_count": 24,
     "metadata": {},
     "output_type": "execute_result"
    }
   ],
   "source": [
    "pi_L = 0\n",
    "profit_1 = (Y1 - w_1)*(1-((gamma**2 *(1-pi_H)**2) + ((1-gamma)**2 *(1-pi_L)**2) + (2*gamma*(1-gamma)*(1-pi_H)*(1-pi_L))))\n",
    "dprofit_1 = diff(profit_1, w_1)\n",
    "simplify(dprofit_1.subs(w_2, w_1 * (1-0.5*gamma))).subs(gamma, 0.6)"
   ]
  },
  {
   "cell_type": "code",
   "execution_count": 7,
   "metadata": {},
   "outputs": [
    {
     "data": {
      "text/latex": [
       "$\\displaystyle - \\frac{5.33333333333333 \\left(- 0.5 Y_{2} + 0.25 w_{1}\\right)}{w_{1}}$"
      ],
      "text/plain": [
       "-5.33333333333333*(-0.5*Y2 + 0.25*w_1)/w_1"
      ]
     },
     "execution_count": 7,
     "metadata": {},
     "output_type": "execute_result"
    }
   ],
   "source": [
    "profit_2 = (Y2 - w_2)*(1-(gamma**2 * pi_H**2) + ((1-gamma)**2 * pi_L**2) + (2*gamma*(1-gamma)*pi_H*pi_L))\n",
    "dprofit_2 = diff(profit_2, w_2)\n",
    "simplify(dprofit_2.subs(w_2, w_1 * (1-0.5*gamma))).subs(gamma, 1)"
   ]
  },
  {
   "cell_type": "code",
   "execution_count": 8,
   "metadata": {},
   "outputs": [],
   "source": [
    "def _pi_H(w_1, w_2, gamma):\n",
    "    return ((gamma-2)*w_2 + 2*w_1)/(gamma*(w_1+w_2))\n",
    "\n",
    "def _pi_L(w_1, w_2, gamma):\n",
    "    return max(((3-gamma)*w_2 - 2*w_1)/((1-gamma)*(w_1+w_2)), 0)\n",
    "\n",
    "def profit_1(w_1, w_2, gamma, pi_H, pi_L):\n",
    "    Y1 = 1\n",
    "    return (Y1 - w_1)*(1-((gamma**2 *(1-pi_H)**2) + ((1-gamma)**2 *(1-pi_L)**2) + (2*gamma*(1-gamma)*(1-pi_H)*(1-pi_L))))\n",
    "\n",
    "def profit_2(w_1, w_2, gamma, pi_H, pi_L):\n",
    "    Y2 = 0.1\n",
    "    return (Y2 - w2)*(1-(gamma**2 * pi_H**2) + ((1-gamma)**2 * pi_L**2) + (2*gamma*(1-gamma)*pi_H*pi_L))"
   ]
  },
  {
   "cell_type": "code",
   "execution_count": 9,
   "metadata": {
    "scrolled": true
   },
   "outputs": [
    {
     "name": "stderr",
     "output_type": "stream",
     "text": [
      "<ipython-input-8-22ba82be846e>:2: RuntimeWarning: invalid value encountered in double_scalars\n",
      "  return ((gamma-2)*w_2 + 2*w_1)/(gamma*(w_1+w_2))\n",
      "<ipython-input-8-22ba82be846e>:5: RuntimeWarning: invalid value encountered in double_scalars\n",
      "  return max(((3-gamma)*w_2 - 2*w_1)/((1-gamma)*(w_1+w_2)), 0)\n"
     ]
    },
    {
     "data": {
      "image/png": "[encoded data removed]",
      "text/plain": [
       "<Figure size 432x288 with 1 Axes>"
      ]
     },
     "metadata": {
      "needs_background": "light"
     },
     "output_type": "display_data"
    }
   ],
   "source": [
    "profits = []\n",
    "profits2 = []\n",
    "\n",
    "gamma = 0.9\n",
    "\n",
    "\n",
    "for w_1 in np.linspace(0, 1, 100):\n",
    "    w_2 = w_1\n",
    "    pi_H = _pi_H(w_1, w_2, gamma)\n",
    "    pi_L = _pi_L(w_1, w_2, gamma)\n",
    "    profit = profit_1(w_1, w_2, gamma, pi_H, pi_L)\n",
    "    profits.append(profit)\n",
    "    \n",
    "for w_1 in np.linspace(0, 1, 100):\n",
    "    w_2 = w_1 + 0.1\n",
    "    pi_H = _pi_H(w_1, w_2, gamma)\n",
    "    pi_L = _pi_L(w_1, w_2, gamma)\n",
    "    profit = profit_1(w_1, w_2, gamma, pi_H, pi_L)\n",
    "    profits2.append(profit)\n",
    "        \n",
    "        \n",
    "fig, ax = plt.subplots()\n",
    "ax.set_xlim([0, 1])\n",
    "plt.plot(np.linspace(0, 1, 100), profits, label = \"profit 1, w_2 = w_1\")\n",
    "plt.plot(np.linspace(0, 1, 100), profits2, label = \"profit 1, w_2 = w_1 - delta\")\n",
    "plt.xlabel(\"w1\")\n",
    "plt.ylabel(\"profit\")\n",
    "fig.suptitle(f\"Profit function for gamma = {round(gamma, 2)}\")\n",
    "ax.legend()\n",
    "plt.show()"
   ]
  },
  {
   "cell_type": "code",
   "execution_count": 10,
   "metadata": {
    "scrolled": true
   },
   "outputs": [
    {
     "name": "stderr",
     "output_type": "stream",
     "text": [
      "<ipython-input-8-22ba82be846e>:2: RuntimeWarning: invalid value encountered in double_scalars\n",
      "  return ((gamma-2)*w_2 + 2*w_1)/(gamma*(w_1+w_2))\n",
      "<ipython-input-8-22ba82be846e>:5: RuntimeWarning: invalid value encountered in double_scalars\n",
      "  return max(((3-gamma)*w_2 - 2*w_1)/((1-gamma)*(w_1+w_2)), 0)\n"
     ]
    },
    {
     "data": {
      "image/png": "[encoded data removed]",
      "text/plain": [
       "<Figure size 432x288 with 1 Axes>"
      ]
     },
     "metadata": {
      "needs_background": "light"
     },
     "output_type": "display_data"
    }
   ],
   "source": [
    "profits = []\n",
    "profits2 = []\n",
    "\n",
    "gamma = 0.5\n",
    "gamma2 = 0.5\n",
    "\n",
    "for w_1 in np.linspace(0, 1, 100):\n",
    "    w_2 = (w_1) * (1-0.5*gamma2)\n",
    "    pi_H = _pi_H(w_1, w_2, gamma)\n",
    "    pi_L = _pi_L(w_1, w_2, gamma)\n",
    "    profit = profit_1(w_1, w_2, gamma, pi_H, pi_L)\n",
    "    profits.append(profit)\n",
    "    \n",
    "for w_1 in np.linspace(0, 1, 100):\n",
    "    w_2 = (w_1+0.1) * (1-0.5*gamma2)\n",
    "    pi_H = _pi_H(w_1, w_2, gamma)\n",
    "    pi_L = _pi_L(w_1, w_2, gamma)\n",
    "    profit = profit_1(w_1, w_2, gamma, pi_H, pi_L)\n",
    "    profits2.append(profit)\n",
    "        \n",
    "        \n",
    "fig, ax = plt.subplots()\n",
    "ax.set_xlim([0, 1])\n",
    "plt.plot(np.linspace(0, 1, 100), profits, label = \"profit 1, w_2 = w_1 * (1-0.5*lambda)\")\n",
    "plt.plot(np.linspace(0, 1, 100), profits2, label = \"profit 1, w_2 = (w_1 - delta)*(1-0.5*lambda)\")\n",
    "plt.xlabel(\"w1\")\n",
    "plt.ylabel(\"profit\")\n",
    "fig.suptitle(f\"Profit function for gamma = {round(gamma, 2)}\")\n",
    "ax.legend()\n",
    "plt.show()"
   ]
  },
  {
   "cell_type": "code",
   "execution_count": null,
   "metadata": {},
   "outputs": [],
   "source": []
  }
 ],
 "metadata": {
  "kernelspec": {
   "display_name": "Python 3",
   "language": "python",
   "name": "python3"
  },
  "language_info": {
   "codemirror_mode": {
    "name": "ipython",
    "version": 3
   },
   "file_extension": ".py",
   "mimetype": "text/x-python",
   "name": "python",
   "nbconvert_exporter": "python",
   "pygments_lexer": "ipython3",
   "version": "3.8.6"
  }
 },
 "nbformat": 4,
 "nbformat_minor": 4
}
