{
 "cells": [
  {
   "cell_type": "markdown",
   "metadata": {},
   "source": [
    "# Directed Search: Small-Difference Equilibrium with Y1 > Y2\n",
    "\n",
    "James Yu, 9 February 2021\n",
    "\n",
    "This brief notebook expands on the mechanism from [this previous notebook](https://github.com/jbrightuniverse/Directed-Search-with-Piecewise-Pi/blob/main/DirectedSearchPiecewiseNumerical.ipynb) to resolve an issue with missing components of the piecewise $\\pi$. It also formulates a solution for problem 3 of [this assignment](https://montoya.econ.ubc.ca/Econ514/problem_set_2.pdf).\n",
    "\n",
    "[This other notebook](https://github.com/michaelpetersubc/notebooks/blob/master/Econ306/directed_search/directed_search_incomplete_information.ipynb) by Michael Peters describes the full extent of the solution for the Nash equilibrium $\\pi_h$ and $\\pi_l$ which is implemented here.\n",
    "\n",
    "Directly using Python was found to be too slow to compute within a timely manner, and attempting to apply a JIT compiler failed due to an inability to type-detect so to speed the computation up, it was written in C++ and then executed via Python in this notebook.\n",
    "\n",
    "First, we define our $\\pi_h$ and $\\pi_l$, which are piecewise based on inputs $w_1$, $w_2$ and $\\lambda$. Here we use gamma instead of $\\lambda$ to avoid issues with lambda being a reserved method name."
   ]
  },
  {
   "cell_type": "code",
   "execution_count": 1,
   "metadata": {},
   "outputs": [],
   "source": [
    "myfile = \"\"\"\n",
    "    #include <math.h>\n",
    "    #include <fstream>\n",
    "\n",
    "    float pi_h(float w1, float w2, float gamma) {\n",
    "      if (gamma*w1/2 + (1-gamma)*w1 >= w2)\n",
    "        return 1;\n",
    "      else if (w1 > w2 && gamma*w1/2 + (1-gamma)*w1 <= w2)\n",
    "        return ((gamma-2)*w2 + 2*w1)/(gamma*(w1+w2));\n",
    "      else if (w2 > w1 && gamma*w2/2 + (1-gamma)*w2 <= w1)\n",
    "        return ((gamma-2)*w1 + 2*w2)/(gamma*(w2+w1));\n",
    "      return 0;\n",
    "    }\n",
    "\n",
    "    float pi_l(float w1, float w2, float gamma) {\n",
    "      if (gamma*w1/2 + (1-gamma)*w1 >= w2)\n",
    "        return ((1-gamma)*(2*w1 - w2)) / ((w1+w2)-gamma*(w1-w2));\n",
    "      else if (w1 > w2 && gamma*w1/2 + (1-gamma)*w1 <= w2)\n",
    "        return ((3-gamma)*w2 - 2*w1)/((1-gamma)*(w1+w2));\n",
    "      else if (w2 > w1 && gamma*w2/2 + (1-gamma)*w2 <= w1)\n",
    "        return ((3-gamma)*w1 - 2*w2)/((1-gamma)*(w2+w1));\n",
    "      return ((1-gamma)*(2*w2 - w1)) / ((w2+w1)-gamma*(w2-w1));\n",
    "    }\n",
    "\"\"\""
   ]
  },
  {
   "cell_type": "markdown",
   "metadata": {},
   "source": [
    "We include the math header for access to `pow()` to do exponentiation, and we include fstream to write to files.\n",
    "\n",
    "Next, we implement our profit functions. The profit function for each firm is dependent on the probability of at least one individual applying to each firm and is computed using relevant combinations of $\\lambda$ and $\\pi$."
   ]
  },
  {
   "cell_type": "code",
   "execution_count": 2,
   "metadata": {},
   "outputs": [],
   "source": [
    "myfile += \"\"\"\n",
    "    float profit_1(float w1, float w2, float gamma, float y1, float hp, float lp) {\n",
    "      float blob = pow(gamma, 2) * (1-pow(hp, 2));\n",
    "      blob += pow((1-gamma), 2) * (1-pow(lp, 2));\n",
    "      blob += 2*gamma*(1-gamma)*(1-hp)*(1-lp);\n",
    "      return (y1-w1)*(1-blob);\n",
    "    }\n",
    "\n",
    "    float profit_2(float w1, float w2, float gamma, float y2, float hp, float lp) {\n",
    "      float blob = pow(gamma, 2) * pow(hp, 2);\n",
    "      blob += pow((1-gamma), 2) * pow(lp, 2);\n",
    "      blob += 2*gamma*(1-gamma)*(hp)*(lp);\n",
    "      return (y2-w2)*(1-blob);\n",
    "    }\n",
    "\"\"\""
   ]
  },
  {
   "cell_type": "markdown",
   "metadata": {},
   "source": [
    "Next, we run the algorithm to find the profit-maximizing choices of $w_1$ and $w_2$. This is done by a brute-force grid search over ranges of $w_1$, $w_2$ and $\\lambda$ from 0 to 1, plus revenue $y$ from 0 to 10. The results of computing the profit functions for the two firms over our grid are stored in two four-dimensional arrays."
   ]
  },
  {
   "cell_type": "code",
   "execution_count": 3,
   "metadata": {},
   "outputs": [],
   "source": [
    "myfile += \"\"\"\n",
    "    int main(void) {\n",
    "      auto profit1 = new float[100][100][100][20];\n",
    "      auto profit2 = new float[100][100][100][20];\n",
    "      int i = 0, j, k, l;\n",
    "      for (float w1 = 0.0000001; i < 100; w1 += 0.01) {\n",
    "        int j = 0;\n",
    "        for (float w2 = 0.0000001; j < 100; w2 += 0.01) {\n",
    "          int k = 0;\n",
    "          for (float gamma = 0.0000001; k < 100; gamma += 0.01) {\n",
    "            float hp = pi_h(w1, w2, gamma);\n",
    "            float lp = pi_l(w1, w2, gamma);\n",
    "            int l = 0;\n",
    "            for (float y = 0; l < 20; y += 0.5) {\n",
    "              profit1[i][j][k][l] = profit_1(w1, w2, gamma, y, hp, lp);\n",
    "              profit2[i][j][k][l] = profit_2(w1, w2, gamma, y, hp, lp);\n",
    "              l++;\n",
    "            }\n",
    "            k++;\n",
    "          }\n",
    "          j++;\n",
    "        }\n",
    "        i++;\n",
    "      }\n",
    "\"\"\""
   ]
  },
  {
   "cell_type": "markdown",
   "metadata": {},
   "source": [
    "Next, we compute the best-response wage choices for each firm. A best response is a wage choice which maximizes profit given the other firm chose a particular wage of their own. We iterate over all entries of the computed grid and compare each wage vector for every $w$-$\\lambda$-$y$ pair where $w$, represented here as the $i$ index, is the wage choice of the other firm; and $y$, represented here as the $k$ index, is the revenue that our firm makes.\n",
    "\n",
    "The wage which gives the highest profit in a particular row is saved as the best response."
   ]
  },
  {
   "cell_type": "code",
   "execution_count": 4,
   "metadata": {},
   "outputs": [],
   "source": [
    "myfile += \"\"\"\n",
    "      auto bestresponse1 = new float[100][100][20];\n",
    "      auto bestresponse2 = new float[100][100][20];\n",
    "\n",
    "      for (int i = 0; i < 100; i++) {\n",
    "        for (int j = 0; j < 100; j++) {\n",
    "          for (int k = 0; k < 20; k++) {\n",
    "            int argmax_1 = 0, argmax_2 = 0;\n",
    "            float mymax_1 = 0, mymax_2 = 0;\n",
    "            for (int w = 0; w < 100; w++) {\n",
    "              float entry = profit1[w][i][j][k];\n",
    "              if (entry > mymax_1) {\n",
    "                mymax_1 = entry;\n",
    "                argmax_1 = w;\n",
    "              }\n",
    "              entry = profit2[i][w][j][k];\n",
    "              if (entry > mymax_2) {\n",
    "                mymax_2 = entry;\n",
    "                argmax_2 = w;\n",
    "              }\n",
    "            }\n",
    "            bestresponse1[i][j][k] = argmax_1;\n",
    "            bestresponse2[i][j][k] = argmax_2;\n",
    "          }\n",
    "        }\n",
    "      }\n",
    "\"\"\""
   ]
  },
  {
   "cell_type": "markdown",
   "metadata": {},
   "source": [
    "Finally, we find the Nash equilibria. The Nash equilibria are points where firm 1 and firm 2 choose wages which are best-responses to each other. We iterate over the best-response grid, adjusted to account for firm 1 and firm 2 potentially having different revenue levels (hence $k1$ and $k2$ for $y1$ and $y2$, respectively), and if we find a Nash equilibrium, we save the index data to a file."
   ]
  },
  {
   "cell_type": "code",
   "execution_count": 5,
   "metadata": {},
   "outputs": [],
   "source": [
    "myfile += \"\"\"\n",
    "\n",
    "      std::ofstream myfile;\n",
    "      myfile.open(\"data.txt\");\n",
    "      for (int i = 0; i < 100; i++) {\n",
    "        for (int j = 0; j < 100; j++) {\n",
    "          for (int k1 = 0; k1 < 20; k1++) {\n",
    "            for (int k2 = 0; k2 < 20; k2++) {\n",
    "              int arg = bestresponse1[i][j][k1];\n",
    "              if (bestresponse2[arg][j][k2] == i) {\n",
    "                myfile << arg << \",\" << i << \",\" << j << \",\" << k1 << \",\" << k2 << \"\\\\n\";\n",
    "              }\n",
    "            }\n",
    "          }\n",
    "        }\n",
    "      }\n",
    "\n",
    "      myfile.close();\n",
    "      return 0;\n",
    "    }\n",
    "\"\"\""
   ]
  },
  {
   "cell_type": "markdown",
   "metadata": {},
   "source": [
    "Next, we save the C++ code and compile it using g++. We then run it, which will output some data to `data.txt`."
   ]
  },
  {
   "cell_type": "code",
   "execution_count": 6,
   "metadata": {},
   "outputs": [],
   "source": [
    "with open(\"program.cpp\", \"w\") as f:\n",
    "    f.write(myfile)"
   ]
  },
  {
   "cell_type": "code",
   "execution_count": 7,
   "metadata": {
    "scrolled": false
   },
   "outputs": [
    {
     "data": {
      "text/plain": [
       "0"
      ]
     },
     "execution_count": 7,
     "metadata": {},
     "output_type": "execute_result"
    }
   ],
   "source": [
    "import os\n",
    "os.system(\"g++ -o program program.cpp\")\n",
    "os.system(\"./program\")"
   ]
  },
  {
   "cell_type": "markdown",
   "metadata": {},
   "source": [
    "The 0 means the syscall worked properly. Thus, we can open the data file and read it into a list."
   ]
  },
  {
   "cell_type": "code",
   "execution_count": 8,
   "metadata": {},
   "outputs": [],
   "source": [
    "res = []\n",
    "with open(\"data.txt\") as f:\n",
    "    for line in f:\n",
    "        res.append([int(b) for b in line.replace(\"\\n\", \"\").split(\",\")])"
   ]
  },
  {
   "cell_type": "code",
   "execution_count": 9,
   "metadata": {},
   "outputs": [
    {
     "name": "stdout",
     "output_type": "stream",
     "text": [
      "19715\n"
     ]
    }
   ],
   "source": [
    "print(len(res))"
   ]
  },
  {
   "cell_type": "markdown",
   "metadata": {},
   "source": [
    "Next, we reconstruct the mapping between grid indices and actual wage values, along with revenue values, to remap the indices from the data file to actual values. We then run the actual checks from problem 3 of the assignment to see if the argument held up. Before doing so, we run one filter which ensures $y_1$ > $y_2$."
   ]
  },
  {
   "cell_type": "code",
   "execution_count": 10,
   "metadata": {},
   "outputs": [
    {
     "name": "stdout",
     "output_type": "stream",
     "text": [
      "17648\n",
      "16517\n",
      "15009\n"
     ]
    }
   ],
   "source": [
    "ws = []\n",
    "w = 0.0000001\n",
    "for i in range(100):\n",
    "    ws.append(w)\n",
    "    w += 0.01\n",
    "    \n",
    "ys = [i/2 for i in range(20)]\n",
    "ws\n",
    "\n",
    "for i in range(len(res)):\n",
    "    data = res[i]\n",
    "    newdata = [ws[data[0]], ws[data[1]], ws[data[2]], ys[data[3]], ys[data[4]]]\n",
    "    res[i] = newdata\n",
    "    \n",
    "res = list(filter(lambda x: x[3] > x[4], res))\n",
    "print(len(res))\n",
    "\n",
    "res = list(filter(lambda x: x[2]*x[0]/2+(1-x[2])*x[0] <= x[1], res))\n",
    "print(len(res))\n",
    "\n",
    "res = list(filter(lambda x: x[0] > x[1], res))\n",
    "print(len(res))"
   ]
  },
  {
   "cell_type": "markdown",
   "metadata": {},
   "source": [
    "If the argument from problem 3 of the assignment held, we should not have seen a reduction in the size of the list. This means something went wrong."
   ]
  }
 ],
 "metadata": {
  "kernelspec": {
   "display_name": "Python 3",
   "language": "python",
   "name": "python3"
  },
  "language_info": {
   "codemirror_mode": {
    "name": "ipython",
    "version": 3
   },
   "file_extension": ".py",
   "mimetype": "text/x-python",
   "name": "python",
   "nbconvert_exporter": "python",
   "pygments_lexer": "ipython3",
   "version": "3.8.6"
  }
 },
 "nbformat": 4,
 "nbformat_minor": 4
}
