{
 "cells": [
  {
   "cell_type": "markdown",
   "metadata": {},
   "source": [
    "# Bonus Round\n",
    "\n",
    "James Yu, 21 February 2021\n",
    "\n",
    "Welcome to the bonus round. This notebook implements the SageMath computations needed in the main notebook of this repository. The only reason they are in two separate places as the SymPy and SageMath functions, as well as MatPlotLib, would conflict with each other if they weren't either heavily modified or totally isolated."
   ]
  },
  {
   "cell_type": "code",
   "execution_count": 1,
   "metadata": {},
   "outputs": [
    {
     "data": {
      "text/plain": [
       "(Y1, Y2, w_2, gamma)"
      ]
     },
     "execution_count": 1,
     "metadata": {},
     "output_type": "execute_result"
    }
   ],
   "source": [
    "var(\"Y1\", \"Y2\", \"w_2\", \"gamma\")"
   ]
  },
  {
   "cell_type": "markdown",
   "metadata": {},
   "source": [
    "We write out our firm 2 profit function derivative so we can attempt to solve it."
   ]
  },
  {
   "cell_type": "code",
   "execution_count": 2,
   "metadata": {},
   "outputs": [
    {
     "data": {
      "text/html": [
       "<html><script type=\"math/tex; mode=display\">\\newcommand{\\Bold}[1]{\\mathbf{#1}}-\\frac{4}{27} \\, Y_{1}^{3} Y_{2} \\gamma^{2} + \\frac{7}{27} \\, Y_{1}^{3} \\gamma^{2} w_{2} - \\frac{7}{9} \\, Y_{1}^{2} Y_{2} \\gamma^{2} w_{2} + \\frac{13}{9} \\, Y_{1}^{2} \\gamma^{2} w_{2}^{2} - \\frac{10}{9} \\, Y_{1} Y_{2} \\gamma^{2} w_{2}^{2} + \\frac{85}{36} \\, Y_{1} \\gamma^{2} w_{2}^{3} - \\frac{25}{108} \\, Y_{2} \\gamma^{2} w_{2}^{3} + \\frac{25}{27} \\, \\gamma^{2} w_{2}^{4} + \\frac{8}{27} \\, Y_{1}^{3} Y_{2} \\gamma + \\frac{4}{27} \\, Y_{1}^{3} \\gamma w_{2} + \\frac{26}{9} \\, Y_{1}^{2} Y_{2} \\gamma w_{2} - \\frac{20}{9} \\, Y_{1}^{2} \\gamma w_{2}^{2} + \\frac{53}{9} \\, Y_{1} Y_{2} \\gamma w_{2}^{2} - \\frac{71}{9} \\, Y_{1} \\gamma w_{2}^{3} + \\frac{35}{27} \\, Y_{2} \\gamma w_{2}^{3} - \\frac{95}{27} \\, \\gamma w_{2}^{4} + \\frac{32}{27} \\, Y_{1}^{3} Y_{2} - \\frac{47}{27} \\, Y_{1}^{3} w_{2} + \\frac{8}{9} \\, Y_{1}^{2} Y_{2} w_{2} - \\frac{47}{9} \\, Y_{1}^{2} w_{2}^{2} - \\frac{52}{9} \\, Y_{1} Y_{2} w_{2}^{2} + \\frac{25}{9} \\, Y_{1} w_{2}^{3} - \\frac{40}{27} \\, Y_{2} w_{2}^{3} + \\frac{61}{27} \\, w_{2}^{4}</script></html>"
      ],
      "text/plain": [
       "-4/27*Y1^3*Y2*gamma^2 + 7/27*Y1^3*gamma^2*w_2 - 7/9*Y1^2*Y2*gamma^2*w_2 + 13/9*Y1^2*gamma^2*w_2^2 - 10/9*Y1*Y2*gamma^2*w_2^2 + 85/36*Y1*gamma^2*w_2^3 - 25/108*Y2*gamma^2*w_2^3 + 25/27*gamma^2*w_2^4 + 8/27*Y1^3*Y2*gamma + 4/27*Y1^3*gamma*w_2 + 26/9*Y1^2*Y2*gamma*w_2 - 20/9*Y1^2*gamma*w_2^2 + 53/9*Y1*Y2*gamma*w_2^2 - 71/9*Y1*gamma*w_2^3 + 35/27*Y2*gamma*w_2^3 - 95/27*gamma*w_2^4 + 32/27*Y1^3*Y2 - 47/27*Y1^3*w_2 + 8/9*Y1^2*Y2*w_2 - 47/9*Y1^2*w_2^2 - 52/9*Y1*Y2*w_2^2 + 25/9*Y1*w_2^3 - 40/27*Y2*w_2^3 + 61/27*w_2^4"
      ]
     },
     "metadata": {},
     "output_type": "display_data"
    }
   ],
   "source": [
    "expr = -4*Y1**3*Y2*gamma**2/27 + 8*Y1**3*Y2*gamma/27 + 32*Y1**3*Y2/27 + 7*Y1**3*gamma**2*w_2/27 + 4*Y1**3*gamma*w_2/27 - 47*Y1**3*w_2/27 - 7*Y1**2*Y2*gamma**2*w_2/9 + 26*Y1**2*Y2*gamma*w_2/9 + 8*Y1**2*Y2*w_2/9 + 13*Y1**2*gamma**2*w_2**2/9 - 20*Y1**2*gamma*w_2**2/9 - 47*Y1**2*w_2**2/9 - 10*Y1*Y2*gamma**2*w_2**2/9 + 53*Y1*Y2*gamma*w_2**2/9 - 52*Y1*Y2*w_2**2/9 + 85*Y1*gamma**2*w_2**3/36 - 71*Y1*gamma*w_2**3/9 + 25*Y1*w_2**3/9 - 25*Y2*gamma**2*w_2**3/108 + 35*Y2*gamma*w_2**3/27 - 40*Y2*w_2**3/27 + 25*gamma**2*w_2**4/27 - 95*gamma*w_2**4/27 + 61*w_2**4/27\n",
    "show(expr)"
   ]
  },
  {
   "cell_type": "markdown",
   "metadata": {},
   "source": [
    "Here's a sample iteration. We attempt to substitute values and compute the equilibrium and check the hypothesis conditions from our problem."
   ]
  },
  {
   "cell_type": "code",
   "execution_count": 3,
   "metadata": {},
   "outputs": [
    {
     "name": "stdout",
     "output_type": "stream",
     "text": [
      "(0.509649322795065, 0.392443318947821, 0.356754525956545, True, True)\n"
     ]
    }
   ],
   "source": [
    "get_w1 = w_2*(-2*Y1*gamma + 6*Y1 - gamma*w_2 + 2*w_2)/(2*Y1 - gamma*w_2 + 6*w_2)\n",
    "\n",
    "gam = 0.6\n",
    "Y_1 = 1\n",
    "Y_2 = 0.9\n",
    "result = solve(expr.simplify_full().subs(gamma = gam).subs(Y1 = Y_1).subs(Y2 = Y_2) == 0, w_2)\n",
    "results = [result[i].rhs().n() for i in range(4)]\n",
    "for a in results:\n",
    "    if a.real() >= 0 and a.real() <= 1 and a.imag() < 10**-6:\n",
    "        w2 = a.real()\n",
    "        w1 = get_w1.subs(w_2 = a.real()).subs(Y1 = Y_1).subs(gamma = gam).subs(Y2 = Y_2)\n",
    "        print(w1, w2, w1 * (1 - gam / 2), eval(str(w1 > w2)), eval(str(w1 * (1 - gam / 2) <= w2)))\n",
    "        "
   ]
  },
  {
   "cell_type": "markdown",
   "metadata": {},
   "source": [
    "For all $\\gamma$ from 0 to 1, we must determine the minimal and maximal distance between $Y_1$ and $Y_2$ needed for the problem to work. Feel free to clone the notebook and change the value of `gam` to observe what happens when $\\gamma$ is modified."
   ]
  },
  {
   "cell_type": "code",
   "execution_count": 4,
   "metadata": {},
   "outputs": [
    {
     "name": "stdout",
     "output_type": "stream",
     "text": [
      "0.0\n",
      "0.1111111111111111\n",
      "0.2222222222222222\n",
      "0.3333333333333333\n",
      "0.4444444444444444\n",
      "0.5555555555555556\n",
      "0.6666666666666666\n",
      "0.7777777777777777\n",
      "0.8888888888888888\n",
      "1.0\n"
     ]
    }
   ],
   "source": [
    "gam = 0.6\n",
    "import numpy as np\n",
    "import pylab as plt\n",
    "\n",
    "success_x = []\n",
    "success_y = []\n",
    "fail_x = []\n",
    "fail_y = []\n",
    "\n",
    "wage_x = []\n",
    "wage_y = []\n",
    "\n",
    "wx = []\n",
    "wy = []\n",
    "\n",
    "for Y_1 in np.linspace(0, 1, 10):\n",
    "    print(Y_1)\n",
    "    for Y_2 in np.linspace(0, 1, 10):\n",
    "        if Y_2 >= Y_1: \n",
    "            continue\n",
    "        result = solve(expr.simplify_full().subs(gamma = gam).subs(Y1 = Y_1).subs(Y2 = Y_2) == 0, w_2)\n",
    "        results = [result[i].rhs().n() for i in range(4)]\n",
    "        for a in results:\n",
    "            if a.real() >= 0 and a.real() <= 1 and a.imag() < 10**-6:\n",
    "                w2 = a.real()\n",
    "                w1 = get_w1.subs(w_2 = a.real()).subs(Y1 = Y_1).subs(gamma = gam).subs(Y2 = Y_2)\n",
    "                if w1 > w2 and w1 * (1 - gam / 2) <= w2:\n",
    "                    success_x.append(Y_1)\n",
    "                    success_y.append(Y_2)\n",
    "                    wage_x.append(w1)\n",
    "                    wage_y.append(w2)\n",
    "                else:\n",
    "                    fail_x.append(Y_1)\n",
    "                    fail_y.append(Y_2)\n",
    "                    wx.append(w1)\n",
    "                    wy.append(w2)\n",
    "                break\n",
    "        else:\n",
    "            print(Y_1, Y_2, \"ERROR\")\n",
    "\n",
    "fig, ax = plt.subplots()\n",
    "plt.plot(success_x, success_y, label = \"success\")\n",
    "plt.plot(fail_x, fail_y, label = \"fail\")\n",
    "ax.legend()\n",
    "plt.imshow([[0,1],[0,1]])\n",
    "plt.close()"
   ]
  },
  {
   "cell_type": "code",
   "execution_count": 5,
   "metadata": {},
   "outputs": [
    {
     "name": "stdout",
     "output_type": "stream",
     "text": [
      "[0.3333333333333333, 0.4444444444444444, 0.5555555555555556, 0.6666666666666666, 0.6666666666666666, 0.7777777777777777, 0.7777777777777777, 0.8888888888888888, 0.8888888888888888, 0.8888888888888888, 1.0, 1.0, 1.0]\n"
     ]
    }
   ],
   "source": [
    "print(success_x)"
   ]
  },
  {
   "cell_type": "code",
   "execution_count": 6,
   "metadata": {},
   "outputs": [
    {
     "name": "stdout",
     "output_type": "stream",
     "text": [
      "[0.1111111111111111, 0.2222222222222222, 0.2222222222222222, 0.3333333333333333, 0.3333333333333333, 0.4444444444444444, 0.4444444444444444, 0.4444444444444444, 0.5555555555555556, 0.5555555555555556, 0.5555555555555556, 0.5555555555555556, 0.6666666666666666, 0.6666666666666666, 0.6666666666666666, 0.6666666666666666, 0.7777777777777777, 0.7777777777777777, 0.7777777777777777, 0.7777777777777777, 0.7777777777777777, 0.8888888888888888, 0.8888888888888888, 0.8888888888888888, 0.8888888888888888, 0.8888888888888888, 1.0, 1.0, 1.0, 1.0, 1.0, 1.0]\n"
     ]
    }
   ],
   "source": [
    "print(fail_x)"
   ]
  },
  {
   "cell_type": "code",
   "execution_count": 7,
   "metadata": {},
   "outputs": [
    {
     "name": "stdout",
     "output_type": "stream",
     "text": [
      "[0.2222222222222222, 0.3333333333333333, 0.4444444444444444, 0.4444444444444444, 0.5555555555555556, 0.5555555555555556, 0.6666666666666666, 0.5555555555555556, 0.6666666666666666, 0.7777777777777777, 0.6666666666666666, 0.7777777777777777, 0.8888888888888888]\n"
     ]
    }
   ],
   "source": [
    "print(success_y)"
   ]
  },
  {
   "cell_type": "code",
   "execution_count": 8,
   "metadata": {},
   "outputs": [
    {
     "name": "stdout",
     "output_type": "stream",
     "text": [
      "[0.0, 0.0, 0.1111111111111111, 0.0, 0.1111111111111111, 0.0, 0.1111111111111111, 0.2222222222222222, 0.0, 0.1111111111111111, 0.2222222222222222, 0.3333333333333333, 0.0, 0.1111111111111111, 0.2222222222222222, 0.3333333333333333, 0.0, 0.1111111111111111, 0.2222222222222222, 0.3333333333333333, 0.4444444444444444, 0.0, 0.1111111111111111, 0.2222222222222222, 0.3333333333333333, 0.4444444444444444, 0.0, 0.1111111111111111, 0.2222222222222222, 0.3333333333333333, 0.4444444444444444, 0.5555555555555556]\n"
     ]
    }
   ],
   "source": [
    "print(fail_y)"
   ]
  },
  {
   "cell_type": "code",
   "execution_count": 9,
   "metadata": {},
   "outputs": [
    {
     "name": "stdout",
     "output_type": "stream",
     "text": [
      "[0.151595311435081, 0.211771732045292, 0.271276618041468, 0.303190622870160, 0.330487341891292, 0.363623768398186, 0.389542985674374, 0.393638945752752, 0.423543464090585, 0.448506854669007, 0.454785934305241, 0.483150598420370, 0.507411914128131]\n"
     ]
    }
   ],
   "source": [
    "print(wage_x)"
   ]
  },
  {
   "cell_type": "code",
   "execution_count": null,
   "metadata": {},
   "outputs": [],
   "source": [
    "print(wage_y)"
   ]
  },
  {
   "cell_type": "code",
   "execution_count": 205,
   "metadata": {},
   "outputs": [
    {
     "name": "stdout",
     "output_type": "stream",
     "text": [
      "[-0.000000000000000, -0.000000000000000, -0.000000000000000, -0.000000000000000, -0.000000000000000, -0.000000000000000, -0.000000000000000, -0.000000000000000, -0.000000000000000]\n"
     ]
    }
   ],
   "source": [
    "print(wx)"
   ]
  },
  {
   "cell_type": "code",
   "execution_count": 206,
   "metadata": {},
   "outputs": [
    {
     "name": "stdout",
     "output_type": "stream",
     "text": [
      "[0.000000000000000, 0.000000000000000, 0.000000000000000, 0.000000000000000, 0.000000000000000, 0.000000000000000, 0.000000000000000, 0.000000000000000, 0.000000000000000]\n"
     ]
    }
   ],
   "source": [
    "print(wy)"
   ]
  },
  {
   "cell_type": "markdown",
   "metadata": {},
   "source": [
    "This concludes the bonus round; the proof continues back at the original notebook."
   ]
  }
 ],
 "metadata": {
  "kernelspec": {
   "display_name": "SageMath 8.1",
   "language": "",
   "name": "sagemath"
  },
  "language_info": {
   "codemirror_mode": {
    "name": "ipython",
    "version": 2
   },
   "file_extension": ".py",
   "mimetype": "text/x-python",
   "name": "python",
   "nbconvert_exporter": "python",
   "pygments_lexer": "ipython2",
   "version": "2.7.15+"
  }
 },
 "nbformat": 4,
 "nbformat_minor": 4
}
