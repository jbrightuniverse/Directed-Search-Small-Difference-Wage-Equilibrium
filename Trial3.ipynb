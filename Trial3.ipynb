{
 "cells": [
  {
   "cell_type": "markdown",
   "metadata": {},
   "source": [
    "# Directed Search: Small-Difference Equilibrium with Y1 > Y2\n",
    "\n",
    "## A partial solution to UBC Econ 514 Pset 2 Q3\n",
    "\n",
    "James Yu, 12 February 2021\n",
    "\n",
    "This notebook revises a procedure from [this notebook](https://github.com/jbrightuniverse/Directed-Search-Small-Difference-Wage-Equilibrium/blob/main/DirectedSearch.ipynb). For the most part, this notebook is functionally identical to the previous one.\n",
    "\n",
    "It also formulates a solution for problem 3 of [this assignment](https://montoya.econ.ubc.ca/Econ514/problem_set_2.pdf).\n",
    "\n",
    "[This other notebook](https://github.com/michaelpetersubc/notebooks/blob/master/Econ306/directed_search/directed_search_incomplete_information.ipynb) by Dr. Michael Peters, which we shall refer to hereafter as \"the original notebook\", describes the full extent of the solution for the Nash equilibrium $\\pi_h$ and $\\pi_l$ which is re-implemented here.\n",
    "\n",
    "Unlike the previous iteration of this solution, this notebook implements grid search in Python instead of C++. In order to ensure that the grid search completes in a timely manner, values for $\\lambda$, $y_1$ and $y_2$ are pre-fixed.\n",
    "\n",
    "# Procedure\n",
    "\n",
    "In this notebook, we will be demonstrating a corollary of the Directed Search model with incomplete information for firms' choices of wages. This is outlined in the assignment problem which should be read before continuing.\n",
    "\n",
    "To do this, we will take a grid of values for $w_1$ and $w_2$, evaluate profit functions over the grid, and numerically construct a best-response set for each firm. The best-response values of $w_1$ and $w_2$ will, if the procedure works, show that the arguments from the assignment problem are satisfied.\n",
    "\n",
    "First, we define our $\\pi_h$ and $\\pi_l$, which are piecewise based on inputs $w_1$, $w_2$ and $\\lambda$. Here we use gamma instead of $\\lambda$ to avoid issues with lambda being a reserved method name."
   ]
  },
  {
   "cell_type": "code",
   "execution_count": 1,
   "metadata": {},
   "outputs": [],
   "source": [
    "def pi_h(w1, w2, gamma):\n",
    "    if (gamma*w1/2 + (1-gamma)*w1 > w2):\n",
    "        return 1\n",
    "    return ((gamma-2)*w2 + 2*w1)/(gamma*(w1+w2))"
   ]
  },
  {
   "cell_type": "markdown",
   "metadata": {},
   "source": [
    "This above function is mostly a line by line transposition of the piecewise $\\pi_h$ from the original notebook. The only change is that in the third case, we subtract the value from one as when we swap $w_1$ and $w_2$, this actually gives us the probability of applying to the second firm instead of the first."
   ]
  },
  {
   "cell_type": "code",
   "execution_count": 2,
   "metadata": {},
   "outputs": [],
   "source": [
    "def inner_pi_l(w1, w2, gamma):\n",
    "    if (gamma*w1/2 + (1-gamma)*w1 > w2):\n",
    "        return (2*(gamma-1)*w1 + (gamma + 1)*w2)/((gamma-1)*(w1+w2))\n",
    "    return ((3-gamma)*w2 - 2*w1)/((1-gamma)*(w1+w2))"
   ]
  },
  {
   "cell_type": "markdown",
   "metadata": {},
   "source": [
    "This function is also mostly line by line of $\\pi_l$, with the only difference being the `1 -` term in the third case. However, this $\\pi_l$ is insufficient for capturing the whole range of cases for $w_1$ and $w_2$, as we have cases where one of the two firms becomes dominated that these four cases do not capture. Instead of having to come up with the exact boundary conditions, we can simply constrain $\\pi_l$ to be between zero and one, as these dominated cases result in $\\pi_l$ taking on unrealistic values outside of $[0, 1]$. We could do the same thing for $\\pi_h$ instead of having a full four cases, but for parity with the original notebook, we don't."
   ]
  },
  {
   "cell_type": "code",
   "execution_count": 3,
   "metadata": {},
   "outputs": [],
   "source": [
    "def pi_l(w1, w2, gamma):\n",
    "    pi = inner_pi_l(w1, w2, gamma)\n",
    "    if (pi > 1): \n",
    "        return 1\n",
    "    elif (pi < 0): \n",
    "        return 0\n",
    "    return pi"
   ]
  },
  {
   "cell_type": "markdown",
   "metadata": {},
   "source": [
    "Now that we've defined functions for $\\pi_h$ and $\\pi_l$, we can define profit functions for the firms. These are direct implementations of the theoretical function example given at the end of the original notebook. The function for firm 1 was given, and the function for firm 2 is very similar; we simply invert the probabilities and apply the wage and revenue variables for firm 2 instead of firm 1."
   ]
  },
  {
   "cell_type": "code",
   "execution_count": 4,
   "metadata": {},
   "outputs": [],
   "source": [
    "def profit_1(w1, w2, gamma, y1, pi_hval, pi_lval):\n",
    "    result = gamma**2 * (1-pi_hval**2)\n",
    "    result += (1-gamma)**2 * (1-pi_lval**2)\n",
    "    result += 2*gamma*(1-gamma)*(1-pi_hval)*(1-pi_lval)\n",
    "    return (y1-w1)*(1-result)\n",
    "\n",
    "def profit_2(w1, w2, gamma, y2, pi_hval, pi_lval):\n",
    "    result = gamma**2 * pi_hval**2\n",
    "    result += (1-gamma)**2 * pi_lval**2\n",
    "    result += 2*gamma*(1-gamma)*pi_hval*pi_lval\n",
    "    return (y2-w2)*(1-result)"
   ]
  },
  {
   "cell_type": "markdown",
   "metadata": {},
   "source": [
    "Now, we want to find the equilibrium wage pairs that maximize firms' profits. This is where we conduct our grid search. We will define a function for a static $\\lambda$, $y_1$ and $y_2$ selection, iterating over pairs of $w_1$ and $w_2$ to start with. We will evaluate both profit functions over the grid and construct a NumPy array to store them."
   ]
  },
  {
   "cell_type": "code",
   "execution_count": 5,
   "metadata": {},
   "outputs": [],
   "source": [
    "import numpy as np\n",
    "global_precision = 100"
   ]
  },
  {
   "cell_type": "code",
   "execution_count": 24,
   "metadata": {},
   "outputs": [],
   "source": [
    "def grid_exhaust(gamma, y1, y2, precision = global_precision):\n",
    "    profit1 = np.NINF * np.ones((precision, precision))\n",
    "    profit2 = np.NINF * np.ones((precision, precision))\n",
    "    \n",
    "    data = np.linspace(0.0000001, 1, precision)\n",
    "    for j in range(precision): # iterate all w2\n",
    "        for i in range(j+1, precision): # iterate only the relevant w1: this covers lower bound\n",
    "            w1 = data[i]\n",
    "            w2 = data[j]\n",
    "            if w1 > (2*w2 / (1-gamma)):\n",
    "                break # when w1 gets too high, stop and go to the next w2\n",
    "                \n",
    "            pi_hval = pi_h(w1, w2, gamma)\n",
    "            pi_lval = pi_l(w1, w2, gamma)\n",
    "            profit1[i,j] = profit_1(w1, w2, gamma, y1, pi_hval, pi_lval)\n",
    "            profit2[i,j] = profit_2(w1, w2, gamma, y2, pi_hval, pi_lval)\n",
    "            \n",
    "    return profit1, profit2"
   ]
  },
  {
   "cell_type": "markdown",
   "metadata": {},
   "source": [
    "We can now construct an exhausted grid with a precision variable specifying how big of a grid we want."
   ]
  },
  {
   "cell_type": "code",
   "execution_count": 25,
   "metadata": {},
   "outputs": [],
   "source": [
    "my_gamma = 0.6\n",
    "my_y1 = 1\n",
    "my_y2 = 0.8\n",
    "\n",
    "exhausted_grid = grid_exhaust(my_gamma, my_y1, my_y2)"
   ]
  },
  {
   "cell_type": "markdown",
   "metadata": {},
   "source": [
    "This pair of arrays gives a grid of evaluated profit values for the two firms given $w_1$, $w_2$ pairs. Given these pairs, we can iterate over the two arrays to find the best response wage pairs which maximize profits for a particular firm given the wage choice of the other firm."
   ]
  },
  {
   "cell_type": "code",
   "execution_count": 26,
   "metadata": {},
   "outputs": [],
   "source": [
    "def best_response(grid,gamma, precision = global_precision):\n",
    "    profit1, profit2 = grid\n",
    "    bestresponse1 = -1 * np.ones(precision, dtype = np.int64)\n",
    "    bestresponse2 = -1 * np.ones(precision, dtype = np.int64)\n",
    "    data = np.linspace(0.0000001, 1, precision)\n",
    "    \n",
    "    relevant_w1s = []\n",
    "    for w2 in range(precision):\n",
    "        argmax_1 = 0\n",
    "        valmax_1 = 0\n",
    "        \n",
    "        # profit function matrices are stored as w1, w2 for both firms\n",
    "        for w1 in range(w2 + 1, precision):\n",
    "            if data[w1] > (2*data[w2]/ (1-gamma)):\n",
    "                break\n",
    "                \n",
    "            relevant_w1s.append(w1)\n",
    "                \n",
    "            entry = profit1[w1,w2]\n",
    "            if (entry > valmax_1):\n",
    "                valmax_1 = entry\n",
    "                argmax_1 = w1 # choice of w1, being used as first index\n",
    "                \n",
    "        bestresponse1[w2] = argmax_1\n",
    "        \n",
    "    for w1 in relevant_w1s:\n",
    "        argmax_2 = 0\n",
    "        valmax_2 = 0\n",
    "        \n",
    "        for w2 in range(precision):\n",
    "            entry = profit2[w1,w2];\n",
    "            if (entry > valmax_2):\n",
    "                valmax_2 = entry\n",
    "                argmax_2 = w2 # choice of w2, being used as second index\n",
    "              \n",
    "        bestresponse2[w1] = argmax_2\n",
    "            \n",
    "    return bestresponse1, bestresponse2"
   ]
  },
  {
   "cell_type": "markdown",
   "metadata": {},
   "source": [
    "The above function takes the output of `grid_exhaust` and finds the argument $w_1$ and $w_2$ values which maximize profits given the opposing firm has chosen some wage value. The output is a single-dimensional numpy vector."
   ]
  },
  {
   "cell_type": "code",
   "execution_count": 27,
   "metadata": {},
   "outputs": [],
   "source": [
    "best_responses = best_response(exhausted_grid, my_gamma)"
   ]
  },
  {
   "cell_type": "markdown",
   "metadata": {},
   "source": [
    "We have one best response for each of the `precision` number of entries in a single dimension of our original grid. Now that we have this data, we find equilibria by looking for matching pairs. That is, given a value $w_1$ that firm 1 chooses as a best response for some $w_2$ chosen by firm 2, if the best response of firm 2 to firm 1 choosing $w_1$ is to choose that same $w_2$, we have an equilibrium as it means there exists this outcome where both have maximized their profits by choosing a common pair of wages to set.\n",
    "\n",
    "This is a direct implementation of best-response analysis in a discrete matrix game. When conducting the checks to find the strategy choice for which a player cannot deviate to achieve higher payoff, if there is some matrix entry containing an optimal strategy for both players, this is that same type of equilibrium."
   ]
  },
  {
   "cell_type": "code",
   "execution_count": 28,
   "metadata": {},
   "outputs": [],
   "source": [
    "import matplotlib.pyplot as plt\n",
    "\n",
    "def equilibria(responses, gamma, plot = False):\n",
    "    global global_precision\n",
    "    bestresponse1, bestresponse2 = responses\n",
    "    bestresponse1 = bestresponse1.astype(np.int64)\n",
    "    bestresponse2 = bestresponse2.astype(np.int64)\n",
    "    res = []\n",
    "    for i in range(len(bestresponse1)):\n",
    "        arg = bestresponse1[i]\n",
    "        if bestresponse2[arg] == i:\n",
    "            res.append([arg, i])\n",
    "            \n",
    "    if plot:\n",
    "        fig, ax = plt.subplots()\n",
    "        ws = np.linspace(0.0000001, 1, global_precision)\n",
    "        plt.scatter([ws[x] for x in range(len(bestresponse1))], [ws[y] for y in bestresponse1], label = \"f1 br\")\n",
    "        plt.scatter([ws[x] for x in bestresponse2], [ws[y] for y in range(len(bestresponse2))], label = \"f2 br\")\n",
    "        plt.xlabel(\"w2\")\n",
    "        plt.ylabel(\"w1\")\n",
    "        plt.plot(ws, ws, label = \"w1 = w2\")\n",
    "        ax.set_xlim([0, 1])\n",
    "        ax.set_ylim([0, 1])\n",
    "        plt.plot(ws, [w/(gamma/2 + (1-gamma)) for w in ws], label = \"w1 = lambdathing\")\n",
    "        ax.legend()\n",
    "        plt.show()\n",
    "        \n",
    "        \n",
    "    \n",
    "    return res"
   ]
  },
  {
   "cell_type": "markdown",
   "metadata": {},
   "source": [
    "In the above function, we iterate over firm 1's best response choices of $w_1$, `arg`, to the corresponding $w_2$ specified by that index `i` of the vector. If firm 2's best response to firm 1's `arg` is to play `i` as $w_2$, we have an equilibrium."
   ]
  },
  {
   "cell_type": "code",
   "execution_count": 29,
   "metadata": {},
   "outputs": [
    {
     "data": {
      "image/png": "[encoded data removed]",
      "text/plain": [
       "<Figure size 432x288 with 1 Axes>"
      ]
     },
     "metadata": {
      "needs_background": "light"
     },
     "output_type": "display_data"
    }
   ],
   "source": [
    "equilibriums = equilibria(best_responses, my_gamma, plot = True)"
   ]
  },
  {
   "cell_type": "code",
   "execution_count": 30,
   "metadata": {},
   "outputs": [],
   "source": [
    "def report(gamma, equilibs, precision = global_precision, suppress = False):\n",
    "    res = []\n",
    "    ws = np.linspace(0.0000001, 1, precision)\n",
    "    for data in equilibs:\n",
    "        res.append([ws[data[0]], ws[data[1]]])\n",
    "\n",
    "    if not suppress:\n",
    "        print(\"Original data has\", len(res), \"entries\")\n",
    "        print(res)\n",
    "    res = list(filter(lambda x: x[0] > x[1], res))\n",
    "    if not suppress:\n",
    "        print(\"w1 > w2 has\", len(res), \"entries\")\n",
    "    res = list(filter(lambda x: gamma*x[0]/2+(1-gamma)*x[0] <= x[1], res))\n",
    "    if not suppress:\n",
    "        print(\"Final result satisfied with\", len(res), \"entries\")\n",
    "    return res"
   ]
  },
  {
   "cell_type": "code",
   "execution_count": 31,
   "metadata": {
    "scrolled": true
   },
   "outputs": [
    {
     "name": "stdout",
     "output_type": "stream",
     "text": [
      "Original data has 0 entries\n",
      "[]\n",
      "w1 > w2 has 0 entries\n",
      "Final result satisfied with 0 entries\n"
     ]
    },
    {
     "data": {
      "text/plain": [
       "[]"
      ]
     },
     "execution_count": 31,
     "metadata": {},
     "output_type": "execute_result"
    }
   ],
   "source": [
    "report(my_gamma, equilibriums)"
   ]
  },
  {
   "cell_type": "markdown",
   "metadata": {},
   "source": [
    "This means that for our original choices at the beginning of the notebook of $\\lambda$, $y_1$ and $y_2$, we get these pairs of $w_1$ and $w_2$ as our wage equilibria. According to the filters, they satisfy all conditions.\n",
    "\n",
    "We can now encapsulate everything we did into one single function so we can manipulate it."
   ]
  },
  {
   "cell_type": "code",
   "execution_count": null,
   "metadata": {},
   "outputs": [],
   "source": [
    "def do_everything(gamma, y1, y2, suppress = False):\n",
    "    exhausted_grid = grid_exhaust(gamma, y1, y2)\n",
    "    best_responses = best_response(exhausted_grid, gamma)\n",
    "    equilibriums = equilibria(best_responses, gamma)\n",
    "    return report(gamma, equilibriums, suppress = suppress)"
   ]
  },
  {
   "cell_type": "code",
   "execution_count": null,
   "metadata": {},
   "outputs": [],
   "source": [
    "do_everything(0.5, 1, 0.6)"
   ]
  },
  {
   "cell_type": "markdown",
   "metadata": {},
   "source": [
    "Let's do some graphing. We need to figure out where this is actually defined, so lets plot the results as a bar graph with $\\lambda$ on the x-axis and number of equilibria on the y-axis. We'll set some arbitrary values of $y_1$ and $y_2$ on the time axis and form a dynamic graph."
   ]
  },
  {
   "cell_type": "code",
   "execution_count": null,
   "metadata": {
    "scrolled": true
   },
   "outputs": [],
   "source": [
    "from io import BytesIO\n",
    "from PIL import Image\n",
    "\n",
    "images = []\n",
    "for y2 in [0.8, 0.7, 0.6]:\n",
    "    for y1 in [1]:\n",
    "        if y1 == y2: continue\n",
    "        data = []\n",
    "        gammas = np.linspace(0.5, 0.9999, 10)\n",
    "        for gamma in gammas:\n",
    "            data.append(len(do_everything(gamma, y1, y2, suppress = True)))\n",
    "            \n",
    "        print(data)\n",
    "        \n",
    "        plt.clf()\n",
    "        fig, ax = plt.subplots()\n",
    "        plt.plot(gammas, data)\n",
    "\n",
    "        fig.suptitle(f\"Number of equilibria for Y1 = {round(y1, 2)}, Y2 = {round(y2, 2)}\")\n",
    "        plt.xlabel(\"λ\")\n",
    "        plt.ylabel(\"# of points\")\n",
    "        filex = BytesIO()\n",
    "        ax.set_ylim(0, 2)\n",
    "        fig.savefig(filex, format = \"png\")\n",
    "        plt.close()\n",
    "        filex.seek(0)\n",
    "        images.append(filex)\n",
    "\n",
    "imgs = [Image.open(image) for image in images]\n",
    "masterfilex = BytesIO()\n",
    "imgs[0].save(fp=masterfilex, format='GIF', append_images=imgs[1:], save_all=True, duration=400, loop=0)\n",
    "\n",
    "# this is a GIF-displaying hack from https://stackoverflow.com/a/32108899\n",
    "from IPython.display import HTML\n",
    "from base64 import b64encode\n",
    "HTML(\"<img src='data:image/gif;base64,{0}'/>\".format(b64encode(masterfilex.getvalue()).decode('utf-8')))"
   ]
  },
  {
   "cell_type": "markdown",
   "metadata": {},
   "source": [
    "Let's also try plotting some best-response functions."
   ]
  },
  {
   "cell_type": "code",
   "execution_count": null,
   "metadata": {},
   "outputs": [],
   "source": [
    "exhausted_grid = grid_exhaust(0.9, 1, 0.8)\n",
    "best_responses = best_response(exhausted_grid, gamma)\n",
    "equilibriums = equilibria(best_responses, plot = True)"
   ]
  },
  {
   "cell_type": "code",
   "execution_count": null,
   "metadata": {},
   "outputs": [],
   "source": [
    "fig, ax = plt.subplots()\n",
    "ws = np.linspace(0.0000001, 1, global_precision)\n",
    "plt.scatter(ws, [pi_h(1, w, 0.8) for w in ws])\n",
    "plt.xlabel(\"w2\")\n",
    "plt.ylabel(\"pi\")\n",
    "plt.show()"
   ]
  },
  {
   "cell_type": "code",
   "execution_count": null,
   "metadata": {},
   "outputs": [],
   "source": [
    "def equilibria2(responses):\n",
    "    global global_precision\n",
    "    bestresponse1, bestresponse2 = responses\n",
    "    fig, ax = plt.subplots()\n",
    "    ws = np.linspace(0.0000001, 1, global_precision)\n",
    "    plt.scatter([ws[x] for x in range(len(bestresponse2))], [pi_h(ws[bestresponse2[x]], ws[x], 0.8) for x in range(len(bestresponse1))])\n",
    "    #plt.scatter([ws[x] for x in bestresponse2], [ws[y] for y in range(len(bestresponse2))])\n",
    "    plt.xlabel(\"w1\")\n",
    "    plt.ylabel(\"pi_l\")\n",
    "    plt.show()"
   ]
  },
  {
   "cell_type": "code",
   "execution_count": null,
   "metadata": {},
   "outputs": [],
   "source": [
    "exhausted_grid = grid_exhaust(0.8, 1, 0.8)\n",
    "best_responses = best_response(exhausted_grid)\n",
    "equilibria2(best_responses)"
   ]
  },
  {
   "cell_type": "code",
   "execution_count": null,
   "metadata": {},
   "outputs": [],
   "source": [
    "fig, ax = plt.subplots()\n",
    "ws = np.linspace(0.0000001, 1, global_precision)\n",
    "for w in ws:\n",
    "    plt.plot(ws, [pi_h(w, wx, 0.8) for wx in ws])\n",
    "plt.xlabel(\"w1\")\n",
    "plt.ylabel(\"pi_h\")\n",
    "plt.show()"
   ]
  },
  {
   "cell_type": "code",
   "execution_count": null,
   "metadata": {},
   "outputs": [],
   "source": [
    "fig, ax = plt.subplots()\n",
    "ws = np.linspace(0.0000001, 1, global_precision)\n",
    "for w in ws:\n",
    "    plt.plot(ws, [pi_l(w, wx, 0.8) for wx in ws])\n",
    "plt.xlabel(\"w1\")\n",
    "plt.ylabel(\"pi_l\")\n",
    "plt.show()"
   ]
  },
  {
   "cell_type": "code",
   "execution_count": null,
   "metadata": {},
   "outputs": [],
   "source": []
  }
 ],
 "metadata": {
  "kernelspec": {
   "display_name": "Python 3",
   "language": "python",
   "name": "python3"
  },
  "language_info": {
   "codemirror_mode": {
    "name": "ipython",
    "version": 3
   },
   "file_extension": ".py",
   "mimetype": "text/x-python",
   "name": "python",
   "nbconvert_exporter": "python",
   "pygments_lexer": "ipython3",
   "version": "3.8.6"
  }
 },
 "nbformat": 4,
 "nbformat_minor": 4
}
