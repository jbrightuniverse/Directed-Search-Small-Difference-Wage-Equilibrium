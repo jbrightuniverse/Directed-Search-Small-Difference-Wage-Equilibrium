{
 "cells": [
  {
   "cell_type": "code",
   "execution_count": 1,
   "metadata": {},
   "outputs": [],
   "source": [
    "from sympy import *"
   ]
  },
  {
   "cell_type": "markdown",
   "metadata": {},
   "source": [
    "Set some params."
   ]
  },
  {
   "cell_type": "code",
   "execution_count": 2,
   "metadata": {},
   "outputs": [],
   "source": [
    "gamma, pi, w_1, w_2 = symbols('gamma pi w_1 w_2')\n",
    "\n",
    "MY_Y1 = 1\n",
    "MY_Y2 = 0.8"
   ]
  },
  {
   "cell_type": "markdown",
   "metadata": {},
   "source": [
    "Use the Pi function assumptions from Discord."
   ]
  },
  {
   "cell_type": "code",
   "execution_count": 3,
   "metadata": {},
   "outputs": [],
   "source": [
    "pi_H = ((gamma-2)*w_2 + 2*w_1)/(gamma*(w_1+w_2))\n",
    "pi_L = 0\n",
    "Y1 = symbols(\"Y1\")\n",
    "profit_1 = (Y1 - w_1)*(1-((gamma**2 *(1-pi_H)**2) + ((1-gamma)**2 *(1-pi_L)**2) + (2*gamma*(1-gamma)*(1-pi_H)*(1-pi_L))))"
   ]
  },
  {
   "cell_type": "code",
   "execution_count": 4,
   "metadata": {},
   "outputs": [
    {
     "data": {
      "text/latex": [
       "$\\displaystyle \\left(Y_{1} - w_{1}\\right) \\left(- \\gamma^{2} \\left(1 - \\frac{2 w_{1} + w_{2} \\left(\\gamma - 2\\right)}{\\gamma \\left(w_{1} + w_{2}\\right)}\\right)^{2} - 2 \\gamma \\left(1 - \\gamma\\right) \\left(1 - \\frac{2 w_{1} + w_{2} \\left(\\gamma - 2\\right)}{\\gamma \\left(w_{1} + w_{2}\\right)}\\right) - \\left(1 - \\gamma\\right)^{2} + 1\\right)$"
      ],
      "text/plain": [
       "(Y1 - w_1)*(-gamma**2*(1 - (2*w_1 + w_2*(gamma - 2))/(gamma*(w_1 + w_2)))**2 - 2*gamma*(1 - gamma)*(1 - (2*w_1 + w_2*(gamma - 2))/(gamma*(w_1 + w_2))) - (1 - gamma)**2 + 1)"
      ]
     },
     "execution_count": 4,
     "metadata": {},
     "output_type": "execute_result"
    }
   ],
   "source": [
    "profit_1"
   ]
  },
  {
   "cell_type": "code",
   "execution_count": 5,
   "metadata": {},
   "outputs": [],
   "source": [
    "d1 = diff(profit_1, w_1)"
   ]
  },
  {
   "cell_type": "code",
   "execution_count": 6,
   "metadata": {},
   "outputs": [
    {
     "data": {
      "text/latex": [
       "$\\displaystyle \\gamma^{2} \\left(1 - \\frac{2 w_{1} + w_{2} \\left(\\gamma - 2\\right)}{\\gamma \\left(w_{1} + w_{2}\\right)}\\right)^{2} + 2 \\gamma \\left(1 - \\gamma\\right) \\left(1 - \\frac{2 w_{1} + w_{2} \\left(\\gamma - 2\\right)}{\\gamma \\left(w_{1} + w_{2}\\right)}\\right) + \\left(1 - \\gamma\\right)^{2} + \\left(Y_{1} - w_{1}\\right) \\left(- \\gamma^{2} \\left(1 - \\frac{2 w_{1} + w_{2} \\left(\\gamma - 2\\right)}{\\gamma \\left(w_{1} + w_{2}\\right)}\\right) \\left(- \\frac{4}{\\gamma \\left(w_{1} + w_{2}\\right)} + \\frac{2 \\left(2 w_{1} + w_{2} \\left(\\gamma - 2\\right)\\right)}{\\gamma \\left(w_{1} + w_{2}\\right)^{2}}\\right) - 2 \\gamma \\left(1 - \\gamma\\right) \\left(- \\frac{2}{\\gamma \\left(w_{1} + w_{2}\\right)} + \\frac{2 w_{1} + w_{2} \\left(\\gamma - 2\\right)}{\\gamma \\left(w_{1} + w_{2}\\right)^{2}}\\right)\\right) - 1$"
      ],
      "text/plain": [
       "gamma**2*(1 - (2*w_1 + w_2*(gamma - 2))/(gamma*(w_1 + w_2)))**2 + 2*gamma*(1 - gamma)*(1 - (2*w_1 + w_2*(gamma - 2))/(gamma*(w_1 + w_2))) + (1 - gamma)**2 + (Y1 - w_1)*(-gamma**2*(1 - (2*w_1 + w_2*(gamma - 2))/(gamma*(w_1 + w_2)))*(-4/(gamma*(w_1 + w_2)) + 2*(2*w_1 + w_2*(gamma - 2))/(gamma*(w_1 + w_2)**2)) - 2*gamma*(1 - gamma)*(-2/(gamma*(w_1 + w_2)) + (2*w_1 + w_2*(gamma - 2))/(gamma*(w_1 + w_2)**2))) - 1"
      ]
     },
     "execution_count": 6,
     "metadata": {},
     "output_type": "execute_result"
    }
   ],
   "source": [
    "d1"
   ]
  },
  {
   "cell_type": "code",
   "execution_count": 7,
   "metadata": {},
   "outputs": [],
   "source": [
    "d1 = simplify(simplify(d1))"
   ]
  },
  {
   "cell_type": "code",
   "execution_count": 8,
   "metadata": {},
   "outputs": [],
   "source": [
    "n,_ = fraction(d1)"
   ]
  },
  {
   "cell_type": "code",
   "execution_count": 9,
   "metadata": {},
   "outputs": [
    {
     "data": {
      "text/latex": [
       "$\\displaystyle w_{2} \\left(2 Y_{1} \\gamma^{2} w_{2} + 2 Y_{1} \\gamma w_{1} - 14 Y_{1} \\gamma w_{2} - 8 Y_{1} w_{1} + 24 Y_{1} w_{2} - \\gamma^{2} w_{1} w_{2} + \\gamma^{2} w_{2}^{2} + 10 \\gamma w_{1} w_{2} - 6 \\gamma w_{2}^{2} - 24 w_{1} w_{2} + 8 w_{2}^{2}\\right)$"
      ],
      "text/plain": [
       "w_2*(2*Y1*gamma**2*w_2 + 2*Y1*gamma*w_1 - 14*Y1*gamma*w_2 - 8*Y1*w_1 + 24*Y1*w_2 - gamma**2*w_1*w_2 + gamma**2*w_2**2 + 10*gamma*w_1*w_2 - 6*gamma*w_2**2 - 24*w_1*w_2 + 8*w_2**2)"
      ]
     },
     "execution_count": 9,
     "metadata": {},
     "output_type": "execute_result"
    }
   ],
   "source": [
    "n"
   ]
  },
  {
   "cell_type": "code",
   "execution_count": 10,
   "metadata": {},
   "outputs": [
    {
     "data": {
      "text/latex": [
       "$\\displaystyle w_{2} \\left(- \\gamma^{2} w_{1} w_{2} + \\gamma^{2} w_{2}^{2} + 2 \\gamma^{2} w_{2} + 10 \\gamma w_{1} w_{2} + 2 \\gamma w_{1} - 6 \\gamma w_{2}^{2} - 14 \\gamma w_{2} - 24 w_{1} w_{2} - 8 w_{1} + 8 w_{2}^{2} + 24 w_{2}\\right)$"
      ],
      "text/plain": [
       "w_2*(-gamma**2*w_1*w_2 + gamma**2*w_2**2 + 2*gamma**2*w_2 + 10*gamma*w_1*w_2 + 2*gamma*w_1 - 6*gamma*w_2**2 - 14*gamma*w_2 - 24*w_1*w_2 - 8*w_1 + 8*w_2**2 + 24*w_2)"
      ]
     },
     "execution_count": 10,
     "metadata": {},
     "output_type": "execute_result"
    }
   ],
   "source": [
    "n.subs(Y1, MY_Y1)"
   ]
  },
  {
   "cell_type": "code",
   "execution_count": 11,
   "metadata": {
    "scrolled": true
   },
   "outputs": [
    {
     "data": {
      "text/latex": [
       "$\\displaystyle \\frac{w_{2} \\left(- 1.5 w_{2} - 5.0\\right)}{- 5.5 w_{2} - 2}$"
      ],
      "text/plain": [
       "w_2*(-1.5*w_2 - 5.0)/(-5.5*w_2 - 2)"
      ]
     },
     "execution_count": 11,
     "metadata": {},
     "output_type": "execute_result"
    }
   ],
   "source": [
    "simplify(solve(n.subs(Y1, 1), w_1)[0]).subs(gamma, 0.5)"
   ]
  },
  {
   "cell_type": "markdown",
   "metadata": {},
   "source": [
    "That was ok. Now we do firm 2."
   ]
  },
  {
   "cell_type": "code",
   "execution_count": 12,
   "metadata": {},
   "outputs": [],
   "source": [
    "Y2 = symbols(\"Y2\")\n",
    "profit_2 = (Y2 - w_2)*(1-((gamma**2 *(pi_H)**2) + ((1-gamma)**2 *(pi_L)**2) + (2*gamma*(1-gamma)*(pi_H)*(pi_L))))"
   ]
  },
  {
   "cell_type": "code",
   "execution_count": 13,
   "metadata": {},
   "outputs": [
    {
     "data": {
      "text/latex": [
       "$\\displaystyle \\frac{- 2 Y_{2} \\gamma^{2} w_{1} w_{2} - 4 Y_{2} \\gamma w_{1}^{2} + 12 Y_{2} \\gamma w_{1} w_{2} + 16 Y_{2} w_{1}^{2} - 16 Y_{2} w_{1} w_{2} + 3 \\gamma^{2} w_{1} w_{2}^{2} + \\gamma^{2} w_{2}^{3} + 8 \\gamma w_{1}^{2} w_{2} - 12 \\gamma w_{1} w_{2}^{2} - 4 \\gamma w_{2}^{3} + 3 w_{1}^{3} - 23 w_{1}^{2} w_{2} + 9 w_{1} w_{2}^{2} + 3 w_{2}^{3}}{w_{1}^{3} + 3 w_{1}^{2} w_{2} + 3 w_{1} w_{2}^{2} + w_{2}^{3}}$"
      ],
      "text/plain": [
       "(-2*Y2*gamma**2*w_1*w_2 - 4*Y2*gamma*w_1**2 + 12*Y2*gamma*w_1*w_2 + 16*Y2*w_1**2 - 16*Y2*w_1*w_2 + 3*gamma**2*w_1*w_2**2 + gamma**2*w_2**3 + 8*gamma*w_1**2*w_2 - 12*gamma*w_1*w_2**2 - 4*gamma*w_2**3 + 3*w_1**3 - 23*w_1**2*w_2 + 9*w_1*w_2**2 + 3*w_2**3)/(w_1**3 + 3*w_1**2*w_2 + 3*w_1*w_2**2 + w_2**3)"
      ]
     },
     "execution_count": 13,
     "metadata": {},
     "output_type": "execute_result"
    }
   ],
   "source": [
    "d2 = diff(profit_2, w_2)\n",
    "simplify(expand(d2))"
   ]
  },
  {
   "cell_type": "code",
   "execution_count": 14,
   "metadata": {},
   "outputs": [],
   "source": [
    "n2, _ = fraction(simplify(d2))"
   ]
  },
  {
   "cell_type": "code",
   "execution_count": 15,
   "metadata": {},
   "outputs": [
    {
     "name": "stdout",
     "output_type": "stream",
     "text": [
      "-2*(Y2 - w_2)*(2*w_1 + w_2*(gamma - 2))*(-2*w_1 - w_2*(gamma - 2) + (gamma - 2)*(w_1 + w_2)) - (w_1 + w_2)**3 + (w_1 + w_2)*(2*w_1 + w_2*(gamma - 2))**2\n"
     ]
    }
   ],
   "source": [
    "print(n2)"
   ]
  },
  {
   "cell_type": "code",
   "execution_count": 16,
   "metadata": {},
   "outputs": [],
   "source": [
    "f1_best = simplify(solve(n.subs(Y1, MY_Y1), w_1)[0])\n",
    "f2_best = simplify(solve(n2.subs(Y2, MY_Y2), w_2)[0])"
   ]
  },
  {
   "cell_type": "code",
   "execution_count": 20,
   "metadata": {},
   "outputs": [
    {
     "data": {
      "text/latex": [
       "$\\displaystyle \\frac{0.0894427190999916 \\left(- 37.9166666666667 w_{1}^{2} - 14.0 w_{1} - 11.1803398874989 \\left(w_{1} + 1.78885438199983 \\sqrt[3]{0.384324183632776 w_{1}^{3} + 0.0139754248593737 w_{1}^{2} \\left(95.0 w_{1} + 42.0\\right) + 0.782623792124926 w_{1}^{2} + \\left(w_{1}^{3} \\left(2.930908203125 w_{1} \\left(w_{1} + 0.8\\right)^{2} - 6.81397388599537 \\left(w_{1} + 0.369230769230769\\right)^{3}\\right)\\right)^{0.5}}\\right) \\sqrt[3]{0.384324183632776 w_{1}^{3} + 0.0139754248593737 w_{1}^{2} \\left(95.0 w_{1} + 42.0\\right) + 0.782623792124926 w_{1}^{2} + \\left(w_{1}^{3} \\left(2.930908203125 w_{1} \\left(w_{1} + 0.8\\right)^{2} - 6.81397388599537 \\left(w_{1} + 0.369230769230769\\right)^{3}\\right)\\right)^{0.5}}\\right)}{\\sqrt[3]{0.384324183632776 w_{1}^{3} + 0.0139754248593737 w_{1}^{2} \\left(95.0 w_{1} + 42.0\\right) + 0.782623792124926 w_{1}^{2} + \\left(w_{1}^{3} \\left(2.930908203125 w_{1} \\left(w_{1} + 0.8\\right)^{2} - 6.81397388599537 \\left(w_{1} + 0.369230769230769\\right)^{3}\\right)\\right)^{0.5}}}$"
      ],
      "text/plain": [
       "0.0894427190999916*(-37.9166666666667*w_1**2 - 14.0*w_1 - 11.1803398874989*(w_1 + 1.78885438199983*(0.384324183632776*w_1**3 + 0.0139754248593737*w_1**2*(95.0*w_1 + 42.0) + 0.782623792124926*w_1**2 + (w_1**3*(2.930908203125*w_1*(w_1 + 0.8)**2 - 6.81397388599537*(w_1 + 0.369230769230769)**3))**0.5)**(1/3))*(0.384324183632776*w_1**3 + 0.0139754248593737*w_1**2*(95.0*w_1 + 42.0) + 0.782623792124926*w_1**2 + (w_1**3*(2.930908203125*w_1*(w_1 + 0.8)**2 - 6.81397388599537*(w_1 + 0.369230769230769)**3))**0.5)**(1/3))/(0.384324183632776*w_1**3 + 0.0139754248593737*w_1**2*(95.0*w_1 + 42.0) + 0.782623792124926*w_1**2 + (w_1**3*(2.930908203125*w_1*(w_1 + 0.8)**2 - 6.81397388599537*(w_1 + 0.369230769230769)**3))**0.5)**(1/3)"
      ]
     },
     "execution_count": 20,
     "metadata": {},
     "output_type": "execute_result"
    }
   ],
   "source": [
    "f2_best.subs(gamma, 0.5)"
   ]
  },
  {
   "cell_type": "code",
   "execution_count": 18,
   "metadata": {},
   "outputs": [],
   "source": [
    "import numpy as np\n",
    "import matplotlib.pyplot as plt\n",
    "from io import BytesIO\n",
    "from PIL import Image\n",
    "w2new = gamma*w_1/2 + (1-gamma)*w_1\n",
    "\n",
    "#d = (1-0.5*gamma)\n",
    "#candidate_t = (w_2/d)*(w_2*(gamma - 1)/d + 2*gamma - 4) / (w_2 * (gamma-5) / d - 2)\n",
    "#can_w1 = candidate_t / d"
   ]
  },
  {
   "cell_type": "code",
   "execution_count": 19,
   "metadata": {},
   "outputs": [
    {
     "data": {
      "text/plain": [
       "'\\nimages = []\\n\\nfor gam in np.linspace(0.000001, 0.9999, 100):\\n    plt.clf()\\n    fig, ax = plt.subplots()\\n    fig.suptitle(f\"w_1 vs w_2: lambda = {round(gam, 2)}\")\\n    \\n    mapper1 = lambdify(w_2, f1_best.subs(gamma, gam), modules=[\\'numpy\\'])\\n    w2s = np.linspace(0.0000001, 1, 100)\\n    w1s = mapper1(w2s)\\n\\n    mapper2 = lambdify(w_1, f2_best.subs(gamma, gam), modules=[\\'numpy\\'])\\n    w1s2 = np.linspace(0.0000001, 1, 100)\\n    w2s2 = mapper2(w1s2)\\n    plt.plot(w1s, w2s2, label = \"F2 best response\")\\n    \\n    #mapper2a = lambdify(w_2, can_w1.subs(gamma, gam), modules=[\\'numpy\\'])\\n    #w2sa = np.linspace(0.0000001, 1, 100)\\n    #w1sa = mapper2a(w2sa)\\n\\n    plt.plot(w1s, w2s, label = \"F1 best response\")\\n    #plt.plot(w1sa, w2sa, label = \"F2 reflected as F1 (wrong)\")\\n    \\n    \\n    #plt.plot(w2s, w2s, label = \"w1 = w2\")\\n\\n    mapper1 = lambdify(w_1, w2new.subs(gamma, gam), modules=[\\'numpy\\'])\\n    w1s3 = np.linspace(0.0000001, 1, 100)\\n    w2s3 = mapper1(w1s3)\\n    #plt.plot(w1s3, w2s3, label = \"w2 = Lw1/2 + (1-L)w1\")\\n    plt.xlabel(\"w1\")\\n    plt.ylabel(\"w2\")\\n    ax.legend()\\n    #ax.set_ylim(0, 1)\\n    #ax.set_xlim(0, 1)\\n    filex = BytesIO()\\n    fig.savefig(filex, format = \"png\")\\n    plt.close()\\n    filex.seek(0)\\n    images.append(filex)\\n    \\n    \\nimgs = [Image.open(image) for image in images]\\nmasterfilex = BytesIO()\\nimgs[0].save(fp=masterfilex, format=\\'GIF\\', append_images=imgs[1:], save_all=True, duration=100, loop=0)\\n\\n# this is a GIF-displaying hack from https://stackoverflow.com/a/32108899\\nfrom IPython.display import HTML\\nfrom base64 import b64encode\\nHTML(\"<img src=\\'data:image/gif;base64,{0}\\'/>\".format(b64encode(masterfilex.getvalue()).decode(\\'utf-8\\')))\\n'"
      ]
     },
     "execution_count": 19,
     "metadata": {},
     "output_type": "execute_result"
    }
   ],
   "source": [
    "\"\"\"\n",
    "images = []\n",
    "\n",
    "for gam in np.linspace(0.000001, 0.9999, 100):\n",
    "    plt.clf()\n",
    "    fig, ax = plt.subplots()\n",
    "    fig.suptitle(f\"w_1 vs w_2: lambda = {round(gam, 2)}\")\n",
    "    \n",
    "    mapper1 = lambdify(w_2, f1_best.subs(gamma, gam), modules=['numpy'])\n",
    "    w2s = np.linspace(0.0000001, 1, 100)\n",
    "    w1s = mapper1(w2s)\n",
    "\n",
    "    mapper2 = lambdify(w_1, f2_best.subs(gamma, gam), modules=['numpy'])\n",
    "    w1s2 = np.linspace(0.0000001, 1, 100)\n",
    "    w2s2 = mapper2(w1s2)\n",
    "    plt.plot(w1s, w2s2, label = \"F2 best response\")\n",
    "    \n",
    "    #mapper2a = lambdify(w_2, can_w1.subs(gamma, gam), modules=['numpy'])\n",
    "    #w2sa = np.linspace(0.0000001, 1, 100)\n",
    "    #w1sa = mapper2a(w2sa)\n",
    "\n",
    "    plt.plot(w1s, w2s, label = \"F1 best response\")\n",
    "    #plt.plot(w1sa, w2sa, label = \"F2 reflected as F1 (wrong)\")\n",
    "    \n",
    "    \n",
    "    #plt.plot(w2s, w2s, label = \"w1 = w2\")\n",
    "\n",
    "    mapper1 = lambdify(w_1, w2new.subs(gamma, gam), modules=['numpy'])\n",
    "    w1s3 = np.linspace(0.0000001, 1, 100)\n",
    "    w2s3 = mapper1(w1s3)\n",
    "    #plt.plot(w1s3, w2s3, label = \"w2 = Lw1/2 + (1-L)w1\")\n",
    "    plt.xlabel(\"w1\")\n",
    "    plt.ylabel(\"w2\")\n",
    "    ax.legend()\n",
    "    #ax.set_ylim(0, 1)\n",
    "    #ax.set_xlim(0, 1)\n",
    "    filex = BytesIO()\n",
    "    fig.savefig(filex, format = \"png\")\n",
    "    plt.close()\n",
    "    filex.seek(0)\n",
    "    images.append(filex)\n",
    "    \n",
    "    \n",
    "imgs = [Image.open(image) for image in images]\n",
    "masterfilex = BytesIO()\n",
    "imgs[0].save(fp=masterfilex, format='GIF', append_images=imgs[1:], save_all=True, duration=100, loop=0)\n",
    "\n",
    "# this is a GIF-displaying hack from https://stackoverflow.com/a/32108899\n",
    "from IPython.display import HTML\n",
    "from base64 import b64encode\n",
    "HTML(\"<img src='data:image/gif;base64,{0}'/>\".format(b64encode(masterfilex.getvalue()).decode('utf-8')))\n",
    "\"\"\""
   ]
  },
  {
   "cell_type": "code",
   "execution_count": null,
   "metadata": {},
   "outputs": [],
   "source": []
  }
 ],
 "metadata": {
  "kernelspec": {
   "display_name": "Python 3",
   "language": "python",
   "name": "python3"
  },
  "language_info": {
   "codemirror_mode": {
    "name": "ipython",
    "version": 3
   },
   "file_extension": ".py",
   "mimetype": "text/x-python",
   "name": "python",
   "nbconvert_exporter": "python",
   "pygments_lexer": "ipython3",
   "version": "3.8.6"
  }
 },
 "nbformat": 4,
 "nbformat_minor": 4
}
